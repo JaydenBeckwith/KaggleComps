{
 "cells": [
  {
   "cell_type": "code",
   "execution_count": 1,
   "id": "97715593",
   "metadata": {
    "_cell_guid": "b1076dfc-b9ad-4769-8c92-a6c4dae69d19",
    "_uuid": "8f2839f25d086af736a60e9eeb907d3b93b6e0e5",
    "execution": {
     "iopub.execute_input": "2023-02-15T04:30:01.579951Z",
     "iopub.status.busy": "2023-02-15T04:30:01.579408Z",
     "iopub.status.idle": "2023-02-15T04:30:03.182901Z",
     "shell.execute_reply": "2023-02-15T04:30:03.181514Z"
    },
    "papermill": {
     "duration": 1.618622,
     "end_time": "2023-02-15T04:30:03.186120",
     "exception": false,
     "start_time": "2023-02-15T04:30:01.567498",
     "status": "completed"
    },
    "tags": []
   },
   "outputs": [
    {
     "name": "stdout",
     "output_type": "stream",
     "text": [
      "/kaggle/input/godaddy-microbusiness-density-forecasting/sample_submission.csv\n",
      "/kaggle/input/godaddy-microbusiness-density-forecasting/census_starter.csv\n",
      "/kaggle/input/godaddy-microbusiness-density-forecasting/train.csv\n",
      "/kaggle/input/godaddy-microbusiness-density-forecasting/test.csv\n"
     ]
    }
   ],
   "source": [
    "#imports \n",
    "import numpy as np\n",
    "import pandas as pd \n",
    "import seaborn as sns\n",
    "from matplotlib import pyplot as plt\n",
    "from sklearn.ensemble import RandomForestRegressor\n",
    "from sklearn.preprocessing import LabelEncoder\n",
    "from sklearn.metrics import mean_squared_error\n",
    "from sklearn.linear_model import LinearRegression\n",
    "from sklearn.tree import DecisionTreeRegressor\n",
    "import os\n",
    "for dirname, _, filenames in os.walk('/kaggle/input'):\n",
    "    for filename in filenames:\n",
    "        print(os.path.join(dirname, filename))\n",
    "\n"
   ]
  },
  {
   "cell_type": "code",
   "execution_count": 2,
   "id": "b772c5d9",
   "metadata": {
    "execution": {
     "iopub.execute_input": "2023-02-15T04:30:03.206945Z",
     "iopub.status.busy": "2023-02-15T04:30:03.205609Z",
     "iopub.status.idle": "2023-02-15T04:30:03.286483Z",
     "shell.execute_reply": "2023-02-15T04:30:03.284809Z"
    },
    "papermill": {
     "duration": 0.09376,
     "end_time": "2023-02-15T04:30:03.289161",
     "exception": false,
     "start_time": "2023-02-15T04:30:03.195401",
     "status": "completed"
    },
    "tags": []
   },
   "outputs": [
    {
     "data": {
      "text/html": [
       "<div>\n",
       "<style scoped>\n",
       "    .dataframe tbody tr th:only-of-type {\n",
       "        vertical-align: middle;\n",
       "    }\n",
       "\n",
       "    .dataframe tbody tr th {\n",
       "        vertical-align: top;\n",
       "    }\n",
       "\n",
       "    .dataframe thead th {\n",
       "        text-align: right;\n",
       "    }\n",
       "</style>\n",
       "<table border=\"1\" class=\"dataframe\">\n",
       "  <thead>\n",
       "    <tr style=\"text-align: right;\">\n",
       "      <th></th>\n",
       "      <th>pct_bb_2017</th>\n",
       "      <th>pct_bb_2018</th>\n",
       "      <th>pct_bb_2019</th>\n",
       "      <th>pct_bb_2020</th>\n",
       "      <th>pct_bb_2021</th>\n",
       "      <th>cfips</th>\n",
       "      <th>pct_college_2017</th>\n",
       "      <th>pct_college_2018</th>\n",
       "      <th>pct_college_2019</th>\n",
       "      <th>pct_college_2020</th>\n",
       "      <th>...</th>\n",
       "      <th>pct_it_workers_2017</th>\n",
       "      <th>pct_it_workers_2018</th>\n",
       "      <th>pct_it_workers_2019</th>\n",
       "      <th>pct_it_workers_2020</th>\n",
       "      <th>pct_it_workers_2021</th>\n",
       "      <th>median_hh_inc_2017</th>\n",
       "      <th>median_hh_inc_2018</th>\n",
       "      <th>median_hh_inc_2019</th>\n",
       "      <th>median_hh_inc_2020</th>\n",
       "      <th>median_hh_inc_2021</th>\n",
       "    </tr>\n",
       "  </thead>\n",
       "  <tbody>\n",
       "    <tr>\n",
       "      <th>0</th>\n",
       "      <td>76.6</td>\n",
       "      <td>78.9</td>\n",
       "      <td>80.6</td>\n",
       "      <td>82.7</td>\n",
       "      <td>85.5</td>\n",
       "      <td>1001</td>\n",
       "      <td>14.5</td>\n",
       "      <td>15.9</td>\n",
       "      <td>16.1</td>\n",
       "      <td>16.7</td>\n",
       "      <td>...</td>\n",
       "      <td>1.3</td>\n",
       "      <td>1.1</td>\n",
       "      <td>0.7</td>\n",
       "      <td>0.6</td>\n",
       "      <td>1.1</td>\n",
       "      <td>55317</td>\n",
       "      <td>58786.0</td>\n",
       "      <td>58731</td>\n",
       "      <td>57982.0</td>\n",
       "      <td>62660.0</td>\n",
       "    </tr>\n",
       "    <tr>\n",
       "      <th>1</th>\n",
       "      <td>74.5</td>\n",
       "      <td>78.1</td>\n",
       "      <td>81.8</td>\n",
       "      <td>85.1</td>\n",
       "      <td>87.9</td>\n",
       "      <td>1003</td>\n",
       "      <td>20.4</td>\n",
       "      <td>20.7</td>\n",
       "      <td>21.0</td>\n",
       "      <td>20.2</td>\n",
       "      <td>...</td>\n",
       "      <td>1.4</td>\n",
       "      <td>1.3</td>\n",
       "      <td>1.4</td>\n",
       "      <td>1.0</td>\n",
       "      <td>1.3</td>\n",
       "      <td>52562</td>\n",
       "      <td>55962.0</td>\n",
       "      <td>58320</td>\n",
       "      <td>61756.0</td>\n",
       "      <td>64346.0</td>\n",
       "    </tr>\n",
       "    <tr>\n",
       "      <th>2</th>\n",
       "      <td>57.2</td>\n",
       "      <td>60.4</td>\n",
       "      <td>60.5</td>\n",
       "      <td>64.6</td>\n",
       "      <td>64.6</td>\n",
       "      <td>1005</td>\n",
       "      <td>7.6</td>\n",
       "      <td>7.8</td>\n",
       "      <td>7.6</td>\n",
       "      <td>7.3</td>\n",
       "      <td>...</td>\n",
       "      <td>0.5</td>\n",
       "      <td>0.3</td>\n",
       "      <td>0.8</td>\n",
       "      <td>1.1</td>\n",
       "      <td>0.8</td>\n",
       "      <td>33368</td>\n",
       "      <td>34186.0</td>\n",
       "      <td>32525</td>\n",
       "      <td>34990.0</td>\n",
       "      <td>36422.0</td>\n",
       "    </tr>\n",
       "    <tr>\n",
       "      <th>3</th>\n",
       "      <td>62.0</td>\n",
       "      <td>66.1</td>\n",
       "      <td>69.2</td>\n",
       "      <td>76.1</td>\n",
       "      <td>74.6</td>\n",
       "      <td>1007</td>\n",
       "      <td>8.1</td>\n",
       "      <td>7.6</td>\n",
       "      <td>6.5</td>\n",
       "      <td>7.4</td>\n",
       "      <td>...</td>\n",
       "      <td>1.2</td>\n",
       "      <td>1.4</td>\n",
       "      <td>1.6</td>\n",
       "      <td>1.7</td>\n",
       "      <td>2.1</td>\n",
       "      <td>43404</td>\n",
       "      <td>45340.0</td>\n",
       "      <td>47542</td>\n",
       "      <td>51721.0</td>\n",
       "      <td>54277.0</td>\n",
       "    </tr>\n",
       "    <tr>\n",
       "      <th>4</th>\n",
       "      <td>65.8</td>\n",
       "      <td>68.5</td>\n",
       "      <td>73.0</td>\n",
       "      <td>79.6</td>\n",
       "      <td>81.0</td>\n",
       "      <td>1009</td>\n",
       "      <td>8.7</td>\n",
       "      <td>8.1</td>\n",
       "      <td>8.6</td>\n",
       "      <td>8.9</td>\n",
       "      <td>...</td>\n",
       "      <td>1.3</td>\n",
       "      <td>1.4</td>\n",
       "      <td>0.9</td>\n",
       "      <td>1.1</td>\n",
       "      <td>0.9</td>\n",
       "      <td>47412</td>\n",
       "      <td>48695.0</td>\n",
       "      <td>49358</td>\n",
       "      <td>48922.0</td>\n",
       "      <td>52830.0</td>\n",
       "    </tr>\n",
       "  </tbody>\n",
       "</table>\n",
       "<p>5 rows × 26 columns</p>\n",
       "</div>"
      ],
      "text/plain": [
       "   pct_bb_2017  pct_bb_2018  pct_bb_2019  pct_bb_2020  pct_bb_2021  cfips  \\\n",
       "0         76.6         78.9         80.6         82.7         85.5   1001   \n",
       "1         74.5         78.1         81.8         85.1         87.9   1003   \n",
       "2         57.2         60.4         60.5         64.6         64.6   1005   \n",
       "3         62.0         66.1         69.2         76.1         74.6   1007   \n",
       "4         65.8         68.5         73.0         79.6         81.0   1009   \n",
       "\n",
       "   pct_college_2017  pct_college_2018  pct_college_2019  pct_college_2020  \\\n",
       "0              14.5              15.9              16.1              16.7   \n",
       "1              20.4              20.7              21.0              20.2   \n",
       "2               7.6               7.8               7.6               7.3   \n",
       "3               8.1               7.6               6.5               7.4   \n",
       "4               8.7               8.1               8.6               8.9   \n",
       "\n",
       "   ...  pct_it_workers_2017  pct_it_workers_2018  pct_it_workers_2019  \\\n",
       "0  ...                  1.3                  1.1                  0.7   \n",
       "1  ...                  1.4                  1.3                  1.4   \n",
       "2  ...                  0.5                  0.3                  0.8   \n",
       "3  ...                  1.2                  1.4                  1.6   \n",
       "4  ...                  1.3                  1.4                  0.9   \n",
       "\n",
       "   pct_it_workers_2020  pct_it_workers_2021  median_hh_inc_2017  \\\n",
       "0                  0.6                  1.1               55317   \n",
       "1                  1.0                  1.3               52562   \n",
       "2                  1.1                  0.8               33368   \n",
       "3                  1.7                  2.1               43404   \n",
       "4                  1.1                  0.9               47412   \n",
       "\n",
       "   median_hh_inc_2018  median_hh_inc_2019  median_hh_inc_2020  \\\n",
       "0             58786.0               58731             57982.0   \n",
       "1             55962.0               58320             61756.0   \n",
       "2             34186.0               32525             34990.0   \n",
       "3             45340.0               47542             51721.0   \n",
       "4             48695.0               49358             48922.0   \n",
       "\n",
       "   median_hh_inc_2021  \n",
       "0             62660.0  \n",
       "1             64346.0  \n",
       "2             36422.0  \n",
       "3             54277.0  \n",
       "4             52830.0  \n",
       "\n",
       "[5 rows x 26 columns]"
      ]
     },
     "execution_count": 2,
     "metadata": {},
     "output_type": "execute_result"
    }
   ],
   "source": [
    "data = pd.read_csv(\"/kaggle/input/godaddy-microbusiness-density-forecasting/census_starter.csv\")\n",
    "data.head()"
   ]
  },
  {
   "cell_type": "code",
   "execution_count": 3,
   "id": "da4e3115",
   "metadata": {
    "execution": {
     "iopub.execute_input": "2023-02-15T04:30:03.310413Z",
     "iopub.status.busy": "2023-02-15T04:30:03.309191Z",
     "iopub.status.idle": "2023-02-15T04:30:03.367260Z",
     "shell.execute_reply": "2023-02-15T04:30:03.365892Z"
    },
    "papermill": {
     "duration": 0.071061,
     "end_time": "2023-02-15T04:30:03.369750",
     "exception": false,
     "start_time": "2023-02-15T04:30:03.298689",
     "status": "completed"
    },
    "tags": []
   },
   "outputs": [
    {
     "data": {
      "text/html": [
       "<div>\n",
       "<style scoped>\n",
       "    .dataframe tbody tr th:only-of-type {\n",
       "        vertical-align: middle;\n",
       "    }\n",
       "\n",
       "    .dataframe tbody tr th {\n",
       "        vertical-align: top;\n",
       "    }\n",
       "\n",
       "    .dataframe thead th {\n",
       "        text-align: right;\n",
       "    }\n",
       "</style>\n",
       "<table border=\"1\" class=\"dataframe\">\n",
       "  <thead>\n",
       "    <tr style=\"text-align: right;\">\n",
       "      <th></th>\n",
       "      <th>row_id</th>\n",
       "      <th>microbusiness_density</th>\n",
       "    </tr>\n",
       "  </thead>\n",
       "  <tbody>\n",
       "    <tr>\n",
       "      <th>0</th>\n",
       "      <td>1001_2022-11-01</td>\n",
       "      <td>3.817671</td>\n",
       "    </tr>\n",
       "    <tr>\n",
       "      <th>1</th>\n",
       "      <td>1003_2022-11-01</td>\n",
       "      <td>3.817671</td>\n",
       "    </tr>\n",
       "    <tr>\n",
       "      <th>2</th>\n",
       "      <td>1005_2022-11-01</td>\n",
       "      <td>3.817671</td>\n",
       "    </tr>\n",
       "    <tr>\n",
       "      <th>3</th>\n",
       "      <td>1007_2022-11-01</td>\n",
       "      <td>3.817671</td>\n",
       "    </tr>\n",
       "    <tr>\n",
       "      <th>4</th>\n",
       "      <td>1009_2022-11-01</td>\n",
       "      <td>3.817671</td>\n",
       "    </tr>\n",
       "    <tr>\n",
       "      <th>...</th>\n",
       "      <td>...</td>\n",
       "      <td>...</td>\n",
       "    </tr>\n",
       "    <tr>\n",
       "      <th>25075</th>\n",
       "      <td>56037_2023-06-01</td>\n",
       "      <td>3.817671</td>\n",
       "    </tr>\n",
       "    <tr>\n",
       "      <th>25076</th>\n",
       "      <td>56039_2023-06-01</td>\n",
       "      <td>3.817671</td>\n",
       "    </tr>\n",
       "    <tr>\n",
       "      <th>25077</th>\n",
       "      <td>56041_2023-06-01</td>\n",
       "      <td>3.817671</td>\n",
       "    </tr>\n",
       "    <tr>\n",
       "      <th>25078</th>\n",
       "      <td>56043_2023-06-01</td>\n",
       "      <td>3.817671</td>\n",
       "    </tr>\n",
       "    <tr>\n",
       "      <th>25079</th>\n",
       "      <td>56045_2023-06-01</td>\n",
       "      <td>3.817671</td>\n",
       "    </tr>\n",
       "  </tbody>\n",
       "</table>\n",
       "<p>25080 rows × 2 columns</p>\n",
       "</div>"
      ],
      "text/plain": [
       "                 row_id  microbusiness_density\n",
       "0       1001_2022-11-01               3.817671\n",
       "1       1003_2022-11-01               3.817671\n",
       "2       1005_2022-11-01               3.817671\n",
       "3       1007_2022-11-01               3.817671\n",
       "4       1009_2022-11-01               3.817671\n",
       "...                 ...                    ...\n",
       "25075  56037_2023-06-01               3.817671\n",
       "25076  56039_2023-06-01               3.817671\n",
       "25077  56041_2023-06-01               3.817671\n",
       "25078  56043_2023-06-01               3.817671\n",
       "25079  56045_2023-06-01               3.817671\n",
       "\n",
       "[25080 rows x 2 columns]"
      ]
     },
     "execution_count": 3,
     "metadata": {},
     "output_type": "execute_result"
    }
   ],
   "source": [
    "sample_sub = pd.read_csv('/kaggle/input/godaddy-microbusiness-density-forecasting/sample_submission.csv')\n",
    "sample_sub"
   ]
  },
  {
   "cell_type": "code",
   "execution_count": 4,
   "id": "88337264",
   "metadata": {
    "execution": {
     "iopub.execute_input": "2023-02-15T04:30:03.391177Z",
     "iopub.status.busy": "2023-02-15T04:30:03.390753Z",
     "iopub.status.idle": "2023-02-15T04:30:03.750279Z",
     "shell.execute_reply": "2023-02-15T04:30:03.749135Z"
    },
    "papermill": {
     "duration": 0.373342,
     "end_time": "2023-02-15T04:30:03.753116",
     "exception": false,
     "start_time": "2023-02-15T04:30:03.379774",
     "status": "completed"
    },
    "tags": []
   },
   "outputs": [],
   "source": [
    "test_set = pd.read_csv(\"/kaggle/input/godaddy-microbusiness-density-forecasting/test.csv\")\n",
    "train_set = pd.read_csv(\"/kaggle/input/godaddy-microbusiness-density-forecasting/train.csv\")"
   ]
  },
  {
   "cell_type": "markdown",
   "id": "fd3f700d",
   "metadata": {
    "papermill": {
     "duration": 0.012681,
     "end_time": "2023-02-15T04:30:03.780003",
     "exception": false,
     "start_time": "2023-02-15T04:30:03.767322",
     "status": "completed"
    },
    "tags": []
   },
   "source": [
    "**Lets perform some EDA and feature engineering**\n",
    "- data cleaning\n",
    "- exploration\n",
    "- feature engineering, i.e get month and year etc"
   ]
  },
  {
   "cell_type": "code",
   "execution_count": 5,
   "id": "29407b6a",
   "metadata": {
    "execution": {
     "iopub.execute_input": "2023-02-15T04:30:03.806151Z",
     "iopub.status.busy": "2023-02-15T04:30:03.804837Z",
     "iopub.status.idle": "2023-02-15T04:30:03.905321Z",
     "shell.execute_reply": "2023-02-15T04:30:03.904093Z"
    },
    "papermill": {
     "duration": 0.115031,
     "end_time": "2023-02-15T04:30:03.908444",
     "exception": false,
     "start_time": "2023-02-15T04:30:03.793413",
     "status": "completed"
    },
    "tags": []
   },
   "outputs": [
    {
     "data": {
      "text/html": [
       "<div>\n",
       "<style scoped>\n",
       "    .dataframe tbody tr th:only-of-type {\n",
       "        vertical-align: middle;\n",
       "    }\n",
       "\n",
       "    .dataframe tbody tr th {\n",
       "        vertical-align: top;\n",
       "    }\n",
       "\n",
       "    .dataframe thead th {\n",
       "        text-align: right;\n",
       "    }\n",
       "</style>\n",
       "<table border=\"1\" class=\"dataframe\">\n",
       "  <thead>\n",
       "    <tr style=\"text-align: right;\">\n",
       "      <th></th>\n",
       "      <th>pct_bb_2017</th>\n",
       "      <th>pct_bb_2018</th>\n",
       "      <th>pct_bb_2019</th>\n",
       "      <th>pct_bb_2020</th>\n",
       "      <th>pct_bb_2021</th>\n",
       "      <th>cfips</th>\n",
       "      <th>pct_college_2017</th>\n",
       "      <th>pct_college_2018</th>\n",
       "      <th>pct_college_2019</th>\n",
       "      <th>pct_college_2020</th>\n",
       "      <th>...</th>\n",
       "      <th>pct_it_workers_2017</th>\n",
       "      <th>pct_it_workers_2018</th>\n",
       "      <th>pct_it_workers_2019</th>\n",
       "      <th>pct_it_workers_2020</th>\n",
       "      <th>pct_it_workers_2021</th>\n",
       "      <th>median_hh_inc_2017</th>\n",
       "      <th>median_hh_inc_2018</th>\n",
       "      <th>median_hh_inc_2019</th>\n",
       "      <th>median_hh_inc_2020</th>\n",
       "      <th>median_hh_inc_2021</th>\n",
       "    </tr>\n",
       "  </thead>\n",
       "  <tbody>\n",
       "    <tr>\n",
       "      <th>count</th>\n",
       "      <td>3142.000000</td>\n",
       "      <td>3142.000000</td>\n",
       "      <td>3142.000000</td>\n",
       "      <td>3141.000000</td>\n",
       "      <td>3141.000000</td>\n",
       "      <td>3142.000000</td>\n",
       "      <td>3142.000000</td>\n",
       "      <td>3142.000000</td>\n",
       "      <td>3142.000000</td>\n",
       "      <td>3141.000000</td>\n",
       "      <td>...</td>\n",
       "      <td>3142.000000</td>\n",
       "      <td>3141.000000</td>\n",
       "      <td>3142.000000</td>\n",
       "      <td>3141.000000</td>\n",
       "      <td>3141.000000</td>\n",
       "      <td>3142.000000</td>\n",
       "      <td>3141.000000</td>\n",
       "      <td>3142.000000</td>\n",
       "      <td>3140.000000</td>\n",
       "      <td>3140.000000</td>\n",
       "    </tr>\n",
       "    <tr>\n",
       "      <th>mean</th>\n",
       "      <td>69.920401</td>\n",
       "      <td>72.690866</td>\n",
       "      <td>75.398600</td>\n",
       "      <td>78.543298</td>\n",
       "      <td>80.539096</td>\n",
       "      <td>30383.649268</td>\n",
       "      <td>13.813399</td>\n",
       "      <td>14.005379</td>\n",
       "      <td>14.240452</td>\n",
       "      <td>14.631328</td>\n",
       "      <td>...</td>\n",
       "      <td>1.427148</td>\n",
       "      <td>1.382171</td>\n",
       "      <td>1.338956</td>\n",
       "      <td>1.309265</td>\n",
       "      <td>1.272684</td>\n",
       "      <td>49754.163908</td>\n",
       "      <td>51583.175422</td>\n",
       "      <td>53475.909612</td>\n",
       "      <td>55012.443312</td>\n",
       "      <td>58223.339490</td>\n",
       "    </tr>\n",
       "    <tr>\n",
       "      <th>std</th>\n",
       "      <td>9.702052</td>\n",
       "      <td>9.255863</td>\n",
       "      <td>8.846665</td>\n",
       "      <td>8.250864</td>\n",
       "      <td>7.889931</td>\n",
       "      <td>15162.508374</td>\n",
       "      <td>5.586649</td>\n",
       "      <td>5.630199</td>\n",
       "      <td>5.689780</td>\n",
       "      <td>5.776940</td>\n",
       "      <td>...</td>\n",
       "      <td>0.986985</td>\n",
       "      <td>0.942777</td>\n",
       "      <td>0.940891</td>\n",
       "      <td>0.990342</td>\n",
       "      <td>0.968579</td>\n",
       "      <td>13154.424871</td>\n",
       "      <td>13703.502202</td>\n",
       "      <td>14192.529173</td>\n",
       "      <td>14649.568591</td>\n",
       "      <td>15541.038914</td>\n",
       "    </tr>\n",
       "    <tr>\n",
       "      <th>min</th>\n",
       "      <td>24.500000</td>\n",
       "      <td>25.700000</td>\n",
       "      <td>34.800000</td>\n",
       "      <td>33.300000</td>\n",
       "      <td>37.000000</td>\n",
       "      <td>1001.000000</td>\n",
       "      <td>2.400000</td>\n",
       "      <td>0.000000</td>\n",
       "      <td>0.000000</td>\n",
       "      <td>0.000000</td>\n",
       "      <td>...</td>\n",
       "      <td>0.000000</td>\n",
       "      <td>0.000000</td>\n",
       "      <td>0.000000</td>\n",
       "      <td>0.000000</td>\n",
       "      <td>0.000000</td>\n",
       "      <td>19264.000000</td>\n",
       "      <td>20188.000000</td>\n",
       "      <td>21504.000000</td>\n",
       "      <td>22292.000000</td>\n",
       "      <td>17109.000000</td>\n",
       "    </tr>\n",
       "    <tr>\n",
       "      <th>25%</th>\n",
       "      <td>64.200000</td>\n",
       "      <td>67.425000</td>\n",
       "      <td>70.500000</td>\n",
       "      <td>74.100000</td>\n",
       "      <td>76.400000</td>\n",
       "      <td>18177.500000</td>\n",
       "      <td>9.700000</td>\n",
       "      <td>9.900000</td>\n",
       "      <td>10.100000</td>\n",
       "      <td>10.500000</td>\n",
       "      <td>...</td>\n",
       "      <td>0.800000</td>\n",
       "      <td>0.800000</td>\n",
       "      <td>0.700000</td>\n",
       "      <td>0.700000</td>\n",
       "      <td>0.600000</td>\n",
       "      <td>41123.000000</td>\n",
       "      <td>42480.000000</td>\n",
       "      <td>44155.000000</td>\n",
       "      <td>45653.000000</td>\n",
       "      <td>48179.500000</td>\n",
       "    </tr>\n",
       "    <tr>\n",
       "      <th>50%</th>\n",
       "      <td>70.700000</td>\n",
       "      <td>73.600000</td>\n",
       "      <td>76.450000</td>\n",
       "      <td>79.600000</td>\n",
       "      <td>81.700000</td>\n",
       "      <td>29176.000000</td>\n",
       "      <td>12.800000</td>\n",
       "      <td>13.000000</td>\n",
       "      <td>13.250000</td>\n",
       "      <td>13.600000</td>\n",
       "      <td>...</td>\n",
       "      <td>1.300000</td>\n",
       "      <td>1.300000</td>\n",
       "      <td>1.200000</td>\n",
       "      <td>1.200000</td>\n",
       "      <td>1.100000</td>\n",
       "      <td>48065.500000</td>\n",
       "      <td>49888.000000</td>\n",
       "      <td>51757.500000</td>\n",
       "      <td>52842.000000</td>\n",
       "      <td>55907.000000</td>\n",
       "    </tr>\n",
       "    <tr>\n",
       "      <th>75%</th>\n",
       "      <td>76.400000</td>\n",
       "      <td>78.800000</td>\n",
       "      <td>81.400000</td>\n",
       "      <td>84.100000</td>\n",
       "      <td>85.900000</td>\n",
       "      <td>45080.500000</td>\n",
       "      <td>16.800000</td>\n",
       "      <td>17.100000</td>\n",
       "      <td>17.300000</td>\n",
       "      <td>17.900000</td>\n",
       "      <td>...</td>\n",
       "      <td>1.900000</td>\n",
       "      <td>1.800000</td>\n",
       "      <td>1.800000</td>\n",
       "      <td>1.800000</td>\n",
       "      <td>1.700000</td>\n",
       "      <td>55763.500000</td>\n",
       "      <td>57611.000000</td>\n",
       "      <td>59867.250000</td>\n",
       "      <td>61500.750000</td>\n",
       "      <td>64930.000000</td>\n",
       "    </tr>\n",
       "    <tr>\n",
       "      <th>max</th>\n",
       "      <td>94.600000</td>\n",
       "      <td>95.500000</td>\n",
       "      <td>96.000000</td>\n",
       "      <td>97.100000</td>\n",
       "      <td>97.600000</td>\n",
       "      <td>56045.000000</td>\n",
       "      <td>43.700000</td>\n",
       "      <td>48.000000</td>\n",
       "      <td>45.400000</td>\n",
       "      <td>43.000000</td>\n",
       "      <td>...</td>\n",
       "      <td>17.400000</td>\n",
       "      <td>11.700000</td>\n",
       "      <td>10.500000</td>\n",
       "      <td>15.200000</td>\n",
       "      <td>15.200000</td>\n",
       "      <td>129588.000000</td>\n",
       "      <td>136268.000000</td>\n",
       "      <td>142299.000000</td>\n",
       "      <td>147111.000000</td>\n",
       "      <td>156821.000000</td>\n",
       "    </tr>\n",
       "  </tbody>\n",
       "</table>\n",
       "<p>8 rows × 26 columns</p>\n",
       "</div>"
      ],
      "text/plain": [
       "       pct_bb_2017  pct_bb_2018  pct_bb_2019  pct_bb_2020  pct_bb_2021  \\\n",
       "count  3142.000000  3142.000000  3142.000000  3141.000000  3141.000000   \n",
       "mean     69.920401    72.690866    75.398600    78.543298    80.539096   \n",
       "std       9.702052     9.255863     8.846665     8.250864     7.889931   \n",
       "min      24.500000    25.700000    34.800000    33.300000    37.000000   \n",
       "25%      64.200000    67.425000    70.500000    74.100000    76.400000   \n",
       "50%      70.700000    73.600000    76.450000    79.600000    81.700000   \n",
       "75%      76.400000    78.800000    81.400000    84.100000    85.900000   \n",
       "max      94.600000    95.500000    96.000000    97.100000    97.600000   \n",
       "\n",
       "              cfips  pct_college_2017  pct_college_2018  pct_college_2019  \\\n",
       "count   3142.000000       3142.000000       3142.000000       3142.000000   \n",
       "mean   30383.649268         13.813399         14.005379         14.240452   \n",
       "std    15162.508374          5.586649          5.630199          5.689780   \n",
       "min     1001.000000          2.400000          0.000000          0.000000   \n",
       "25%    18177.500000          9.700000          9.900000         10.100000   \n",
       "50%    29176.000000         12.800000         13.000000         13.250000   \n",
       "75%    45080.500000         16.800000         17.100000         17.300000   \n",
       "max    56045.000000         43.700000         48.000000         45.400000   \n",
       "\n",
       "       pct_college_2020  ...  pct_it_workers_2017  pct_it_workers_2018  \\\n",
       "count       3141.000000  ...          3142.000000          3141.000000   \n",
       "mean          14.631328  ...             1.427148             1.382171   \n",
       "std            5.776940  ...             0.986985             0.942777   \n",
       "min            0.000000  ...             0.000000             0.000000   \n",
       "25%           10.500000  ...             0.800000             0.800000   \n",
       "50%           13.600000  ...             1.300000             1.300000   \n",
       "75%           17.900000  ...             1.900000             1.800000   \n",
       "max           43.000000  ...            17.400000            11.700000   \n",
       "\n",
       "       pct_it_workers_2019  pct_it_workers_2020  pct_it_workers_2021  \\\n",
       "count          3142.000000          3141.000000          3141.000000   \n",
       "mean              1.338956             1.309265             1.272684   \n",
       "std               0.940891             0.990342             0.968579   \n",
       "min               0.000000             0.000000             0.000000   \n",
       "25%               0.700000             0.700000             0.600000   \n",
       "50%               1.200000             1.200000             1.100000   \n",
       "75%               1.800000             1.800000             1.700000   \n",
       "max              10.500000            15.200000            15.200000   \n",
       "\n",
       "       median_hh_inc_2017  median_hh_inc_2018  median_hh_inc_2019  \\\n",
       "count         3142.000000         3141.000000         3142.000000   \n",
       "mean         49754.163908        51583.175422        53475.909612   \n",
       "std          13154.424871        13703.502202        14192.529173   \n",
       "min          19264.000000        20188.000000        21504.000000   \n",
       "25%          41123.000000        42480.000000        44155.000000   \n",
       "50%          48065.500000        49888.000000        51757.500000   \n",
       "75%          55763.500000        57611.000000        59867.250000   \n",
       "max         129588.000000       136268.000000       142299.000000   \n",
       "\n",
       "       median_hh_inc_2020  median_hh_inc_2021  \n",
       "count         3140.000000         3140.000000  \n",
       "mean         55012.443312        58223.339490  \n",
       "std          14649.568591        15541.038914  \n",
       "min          22292.000000        17109.000000  \n",
       "25%          45653.000000        48179.500000  \n",
       "50%          52842.000000        55907.000000  \n",
       "75%          61500.750000        64930.000000  \n",
       "max         147111.000000       156821.000000  \n",
       "\n",
       "[8 rows x 26 columns]"
      ]
     },
     "execution_count": 5,
     "metadata": {},
     "output_type": "execute_result"
    }
   ],
   "source": [
    "data.describe()"
   ]
  },
  {
   "cell_type": "code",
   "execution_count": 6,
   "id": "2772c027",
   "metadata": {
    "execution": {
     "iopub.execute_input": "2023-02-15T04:30:03.940333Z",
     "iopub.status.busy": "2023-02-15T04:30:03.939901Z",
     "iopub.status.idle": "2023-02-15T04:30:04.402840Z",
     "shell.execute_reply": "2023-02-15T04:30:04.401937Z"
    },
    "papermill": {
     "duration": 0.481841,
     "end_time": "2023-02-15T04:30:04.405487",
     "exception": false,
     "start_time": "2023-02-15T04:30:03.923646",
     "status": "completed"
    },
    "tags": []
   },
   "outputs": [
    {
     "data": {
      "text/plain": [
       "<AxesSubplot:>"
      ]
     },
     "execution_count": 6,
     "metadata": {},
     "output_type": "execute_result"
    },
    {
     "data": {
      "image/png": "[encoded data removed]",
      "text/plain": [
       "<Figure size 432x288 with 2 Axes>"
      ]
     },
     "metadata": {
      "needs_background": "light"
     },
     "output_type": "display_data"
    }
   ],
   "source": [
    "dat_cor = data.corr()\n",
    "sns.heatmap(dat_cor)"
   ]
  },
  {
   "cell_type": "code",
   "execution_count": 7,
   "id": "90bb75aa",
   "metadata": {
    "execution": {
     "iopub.execute_input": "2023-02-15T04:30:04.435218Z",
     "iopub.status.busy": "2023-02-15T04:30:04.434218Z",
     "iopub.status.idle": "2023-02-15T04:30:04.442286Z",
     "shell.execute_reply": "2023-02-15T04:30:04.441231Z"
    },
    "papermill": {
     "duration": 0.024224,
     "end_time": "2023-02-15T04:30:04.444460",
     "exception": false,
     "start_time": "2023-02-15T04:30:04.420236",
     "status": "completed"
    },
    "tags": []
   },
   "outputs": [
    {
     "data": {
      "text/plain": [
       "Index(['pct_bb_2017', 'pct_bb_2018', 'pct_bb_2019', 'pct_bb_2020',\n",
       "       'pct_bb_2021', 'cfips', 'pct_college_2017', 'pct_college_2018',\n",
       "       'pct_college_2019', 'pct_college_2020', 'pct_college_2021',\n",
       "       'pct_foreign_born_2017', 'pct_foreign_born_2018',\n",
       "       'pct_foreign_born_2019', 'pct_foreign_born_2020',\n",
       "       'pct_foreign_born_2021', 'pct_it_workers_2017', 'pct_it_workers_2018',\n",
       "       'pct_it_workers_2019', 'pct_it_workers_2020', 'pct_it_workers_2021',\n",
       "       'median_hh_inc_2017', 'median_hh_inc_2018', 'median_hh_inc_2019',\n",
       "       'median_hh_inc_2020', 'median_hh_inc_2021'],\n",
       "      dtype='object')"
      ]
     },
     "execution_count": 7,
     "metadata": {},
     "output_type": "execute_result"
    }
   ],
   "source": [
    "data.columns"
   ]
  },
  {
   "cell_type": "code",
   "execution_count": 8,
   "id": "98a8ef23",
   "metadata": {
    "execution": {
     "iopub.execute_input": "2023-02-15T04:30:04.468234Z",
     "iopub.status.busy": "2023-02-15T04:30:04.467819Z",
     "iopub.status.idle": "2023-02-15T04:30:09.582013Z",
     "shell.execute_reply": "2023-02-15T04:30:09.581090Z"
    },
    "papermill": {
     "duration": 5.133838,
     "end_time": "2023-02-15T04:30:09.588804",
     "exception": false,
     "start_time": "2023-02-15T04:30:04.454966",
     "status": "completed"
    },
    "tags": []
   },
   "outputs": [
    {
     "data": {
      "text/plain": [
       "<seaborn.axisgrid.PairGrid at 0x7fb6992cdf10>"
      ]
     },
     "execution_count": 8,
     "metadata": {},
     "output_type": "execute_result"
    },
    {
     "data": {
      "image/png": "[encoded data removed]",
      "text/plain": [
       "<Figure size 900x900 with 30 Axes>"
      ]
     },
     "metadata": {
      "needs_background": "light"
     },
     "output_type": "display_data"
    }
   ],
   "source": [
    "#check latest data - 2021 \n",
    "cols = ['pct_bb_2021', 'pct_college_2021', 'pct_foreign_born_2021', 'pct_it_workers_2021', 'median_hh_inc_2021']\n",
    "sns.pairplot(data[cols])"
   ]
  },
  {
   "cell_type": "code",
   "execution_count": 9,
   "id": "2d905614",
   "metadata": {
    "execution": {
     "iopub.execute_input": "2023-02-15T04:30:09.622221Z",
     "iopub.status.busy": "2023-02-15T04:30:09.621760Z",
     "iopub.status.idle": "2023-02-15T04:30:09.636825Z",
     "shell.execute_reply": "2023-02-15T04:30:09.635863Z"
    },
    "papermill": {
     "duration": 0.034288,
     "end_time": "2023-02-15T04:30:09.639181",
     "exception": false,
     "start_time": "2023-02-15T04:30:09.604893",
     "status": "completed"
    },
    "tags": []
   },
   "outputs": [
    {
     "data": {
      "text/html": [
       "<div>\n",
       "<style scoped>\n",
       "    .dataframe tbody tr th:only-of-type {\n",
       "        vertical-align: middle;\n",
       "    }\n",
       "\n",
       "    .dataframe tbody tr th {\n",
       "        vertical-align: top;\n",
       "    }\n",
       "\n",
       "    .dataframe thead th {\n",
       "        text-align: right;\n",
       "    }\n",
       "</style>\n",
       "<table border=\"1\" class=\"dataframe\">\n",
       "  <thead>\n",
       "    <tr style=\"text-align: right;\">\n",
       "      <th></th>\n",
       "      <th>row_id</th>\n",
       "      <th>cfips</th>\n",
       "      <th>county</th>\n",
       "      <th>state</th>\n",
       "      <th>first_day_of_month</th>\n",
       "      <th>microbusiness_density</th>\n",
       "      <th>active</th>\n",
       "    </tr>\n",
       "  </thead>\n",
       "  <tbody>\n",
       "    <tr>\n",
       "      <th>0</th>\n",
       "      <td>1001_2019-08-01</td>\n",
       "      <td>1001</td>\n",
       "      <td>Autauga County</td>\n",
       "      <td>Alabama</td>\n",
       "      <td>2019-08-01</td>\n",
       "      <td>3.007682</td>\n",
       "      <td>1249</td>\n",
       "    </tr>\n",
       "    <tr>\n",
       "      <th>1</th>\n",
       "      <td>1001_2019-09-01</td>\n",
       "      <td>1001</td>\n",
       "      <td>Autauga County</td>\n",
       "      <td>Alabama</td>\n",
       "      <td>2019-09-01</td>\n",
       "      <td>2.884870</td>\n",
       "      <td>1198</td>\n",
       "    </tr>\n",
       "    <tr>\n",
       "      <th>2</th>\n",
       "      <td>1001_2019-10-01</td>\n",
       "      <td>1001</td>\n",
       "      <td>Autauga County</td>\n",
       "      <td>Alabama</td>\n",
       "      <td>2019-10-01</td>\n",
       "      <td>3.055843</td>\n",
       "      <td>1269</td>\n",
       "    </tr>\n",
       "    <tr>\n",
       "      <th>3</th>\n",
       "      <td>1001_2019-11-01</td>\n",
       "      <td>1001</td>\n",
       "      <td>Autauga County</td>\n",
       "      <td>Alabama</td>\n",
       "      <td>2019-11-01</td>\n",
       "      <td>2.993233</td>\n",
       "      <td>1243</td>\n",
       "    </tr>\n",
       "    <tr>\n",
       "      <th>4</th>\n",
       "      <td>1001_2019-12-01</td>\n",
       "      <td>1001</td>\n",
       "      <td>Autauga County</td>\n",
       "      <td>Alabama</td>\n",
       "      <td>2019-12-01</td>\n",
       "      <td>2.993233</td>\n",
       "      <td>1243</td>\n",
       "    </tr>\n",
       "  </tbody>\n",
       "</table>\n",
       "</div>"
      ],
      "text/plain": [
       "            row_id  cfips          county    state first_day_of_month  \\\n",
       "0  1001_2019-08-01   1001  Autauga County  Alabama         2019-08-01   \n",
       "1  1001_2019-09-01   1001  Autauga County  Alabama         2019-09-01   \n",
       "2  1001_2019-10-01   1001  Autauga County  Alabama         2019-10-01   \n",
       "3  1001_2019-11-01   1001  Autauga County  Alabama         2019-11-01   \n",
       "4  1001_2019-12-01   1001  Autauga County  Alabama         2019-12-01   \n",
       "\n",
       "   microbusiness_density  active  \n",
       "0               3.007682    1249  \n",
       "1               2.884870    1198  \n",
       "2               3.055843    1269  \n",
       "3               2.993233    1243  \n",
       "4               2.993233    1243  "
      ]
     },
     "execution_count": 9,
     "metadata": {},
     "output_type": "execute_result"
    }
   ],
   "source": [
    "train_set.head()"
   ]
  },
  {
   "cell_type": "code",
   "execution_count": 10,
   "id": "9e51ce78",
   "metadata": {
    "execution": {
     "iopub.execute_input": "2023-02-15T04:30:09.673025Z",
     "iopub.status.busy": "2023-02-15T04:30:09.672252Z",
     "iopub.status.idle": "2023-02-15T04:30:09.683872Z",
     "shell.execute_reply": "2023-02-15T04:30:09.682629Z"
    },
    "papermill": {
     "duration": 0.031136,
     "end_time": "2023-02-15T04:30:09.686130",
     "exception": false,
     "start_time": "2023-02-15T04:30:09.654994",
     "status": "completed"
    },
    "tags": []
   },
   "outputs": [
    {
     "data": {
      "text/html": [
       "<div>\n",
       "<style scoped>\n",
       "    .dataframe tbody tr th:only-of-type {\n",
       "        vertical-align: middle;\n",
       "    }\n",
       "\n",
       "    .dataframe tbody tr th {\n",
       "        vertical-align: top;\n",
       "    }\n",
       "\n",
       "    .dataframe thead th {\n",
       "        text-align: right;\n",
       "    }\n",
       "</style>\n",
       "<table border=\"1\" class=\"dataframe\">\n",
       "  <thead>\n",
       "    <tr style=\"text-align: right;\">\n",
       "      <th></th>\n",
       "      <th>row_id</th>\n",
       "      <th>cfips</th>\n",
       "      <th>first_day_of_month</th>\n",
       "    </tr>\n",
       "  </thead>\n",
       "  <tbody>\n",
       "    <tr>\n",
       "      <th>0</th>\n",
       "      <td>1001_2022-11-01</td>\n",
       "      <td>1001</td>\n",
       "      <td>2022-11-01</td>\n",
       "    </tr>\n",
       "    <tr>\n",
       "      <th>1</th>\n",
       "      <td>1003_2022-11-01</td>\n",
       "      <td>1003</td>\n",
       "      <td>2022-11-01</td>\n",
       "    </tr>\n",
       "    <tr>\n",
       "      <th>2</th>\n",
       "      <td>1005_2022-11-01</td>\n",
       "      <td>1005</td>\n",
       "      <td>2022-11-01</td>\n",
       "    </tr>\n",
       "    <tr>\n",
       "      <th>3</th>\n",
       "      <td>1007_2022-11-01</td>\n",
       "      <td>1007</td>\n",
       "      <td>2022-11-01</td>\n",
       "    </tr>\n",
       "    <tr>\n",
       "      <th>4</th>\n",
       "      <td>1009_2022-11-01</td>\n",
       "      <td>1009</td>\n",
       "      <td>2022-11-01</td>\n",
       "    </tr>\n",
       "  </tbody>\n",
       "</table>\n",
       "</div>"
      ],
      "text/plain": [
       "            row_id  cfips first_day_of_month\n",
       "0  1001_2022-11-01   1001         2022-11-01\n",
       "1  1003_2022-11-01   1003         2022-11-01\n",
       "2  1005_2022-11-01   1005         2022-11-01\n",
       "3  1007_2022-11-01   1007         2022-11-01\n",
       "4  1009_2022-11-01   1009         2022-11-01"
      ]
     },
     "execution_count": 10,
     "metadata": {},
     "output_type": "execute_result"
    }
   ],
   "source": [
    "test_set.head()"
   ]
  },
  {
   "cell_type": "code",
   "execution_count": 11,
   "id": "3eaad40c",
   "metadata": {
    "execution": {
     "iopub.execute_input": "2023-02-15T04:30:09.720305Z",
     "iopub.status.busy": "2023-02-15T04:30:09.719869Z",
     "iopub.status.idle": "2023-02-15T04:30:09.726913Z",
     "shell.execute_reply": "2023-02-15T04:30:09.725805Z"
    },
    "papermill": {
     "duration": 0.027022,
     "end_time": "2023-02-15T04:30:09.729220",
     "exception": false,
     "start_time": "2023-02-15T04:30:09.702198",
     "status": "completed"
    },
    "tags": []
   },
   "outputs": [
    {
     "data": {
      "text/plain": [
       "(122265, 7)"
      ]
     },
     "execution_count": 11,
     "metadata": {},
     "output_type": "execute_result"
    }
   ],
   "source": [
    "train_set.shape #show total cols and rows for training set"
   ]
  },
  {
   "cell_type": "code",
   "execution_count": 12,
   "id": "fbd28f8a",
   "metadata": {
    "execution": {
     "iopub.execute_input": "2023-02-15T04:30:09.763291Z",
     "iopub.status.busy": "2023-02-15T04:30:09.762869Z",
     "iopub.status.idle": "2023-02-15T04:30:09.801562Z",
     "shell.execute_reply": "2023-02-15T04:30:09.800104Z"
    },
    "papermill": {
     "duration": 0.059565,
     "end_time": "2023-02-15T04:30:09.804871",
     "exception": false,
     "start_time": "2023-02-15T04:30:09.745306",
     "status": "completed"
    },
    "tags": []
   },
   "outputs": [
    {
     "name": "stdout",
     "output_type": "stream",
     "text": [
      "<class 'pandas.core.frame.DataFrame'>\n",
      "RangeIndex: 122265 entries, 0 to 122264\n",
      "Data columns (total 7 columns):\n",
      " #   Column                 Non-Null Count   Dtype  \n",
      "---  ------                 --------------   -----  \n",
      " 0   row_id                 122265 non-null  object \n",
      " 1   cfips                  122265 non-null  int64  \n",
      " 2   county                 122265 non-null  object \n",
      " 3   state                  122265 non-null  object \n",
      " 4   first_day_of_month     122265 non-null  object \n",
      " 5   microbusiness_density  122265 non-null  float64\n",
      " 6   active                 122265 non-null  int64  \n",
      "dtypes: float64(1), int64(2), object(4)\n",
      "memory usage: 6.5+ MB\n"
     ]
    }
   ],
   "source": [
    "train_set.info()"
   ]
  },
  {
   "cell_type": "code",
   "execution_count": 13,
   "id": "eb4c1758",
   "metadata": {
    "execution": {
     "iopub.execute_input": "2023-02-15T04:30:09.840440Z",
     "iopub.status.busy": "2023-02-15T04:30:09.839137Z",
     "iopub.status.idle": "2023-02-15T04:30:09.874773Z",
     "shell.execute_reply": "2023-02-15T04:30:09.873445Z"
    },
    "papermill": {
     "duration": 0.055249,
     "end_time": "2023-02-15T04:30:09.877257",
     "exception": false,
     "start_time": "2023-02-15T04:30:09.822008",
     "status": "completed"
    },
    "tags": []
   },
   "outputs": [
    {
     "data": {
      "text/html": [
       "<div>\n",
       "<style scoped>\n",
       "    .dataframe tbody tr th:only-of-type {\n",
       "        vertical-align: middle;\n",
       "    }\n",
       "\n",
       "    .dataframe tbody tr th {\n",
       "        vertical-align: top;\n",
       "    }\n",
       "\n",
       "    .dataframe thead th {\n",
       "        text-align: right;\n",
       "    }\n",
       "</style>\n",
       "<table border=\"1\" class=\"dataframe\">\n",
       "  <thead>\n",
       "    <tr style=\"text-align: right;\">\n",
       "      <th></th>\n",
       "      <th>cfips</th>\n",
       "      <th>microbusiness_density</th>\n",
       "      <th>active</th>\n",
       "    </tr>\n",
       "  </thead>\n",
       "  <tbody>\n",
       "    <tr>\n",
       "      <th>count</th>\n",
       "      <td>122265.000000</td>\n",
       "      <td>122265.000000</td>\n",
       "      <td>1.222650e+05</td>\n",
       "    </tr>\n",
       "    <tr>\n",
       "      <th>mean</th>\n",
       "      <td>30376.037640</td>\n",
       "      <td>3.817671</td>\n",
       "      <td>6.442858e+03</td>\n",
       "    </tr>\n",
       "    <tr>\n",
       "      <th>std</th>\n",
       "      <td>15143.508721</td>\n",
       "      <td>4.991087</td>\n",
       "      <td>3.304001e+04</td>\n",
       "    </tr>\n",
       "    <tr>\n",
       "      <th>min</th>\n",
       "      <td>1001.000000</td>\n",
       "      <td>0.000000</td>\n",
       "      <td>0.000000e+00</td>\n",
       "    </tr>\n",
       "    <tr>\n",
       "      <th>25%</th>\n",
       "      <td>18177.000000</td>\n",
       "      <td>1.639344</td>\n",
       "      <td>1.450000e+02</td>\n",
       "    </tr>\n",
       "    <tr>\n",
       "      <th>50%</th>\n",
       "      <td>29173.000000</td>\n",
       "      <td>2.586543</td>\n",
       "      <td>4.880000e+02</td>\n",
       "    </tr>\n",
       "    <tr>\n",
       "      <th>75%</th>\n",
       "      <td>45077.000000</td>\n",
       "      <td>4.519231</td>\n",
       "      <td>2.124000e+03</td>\n",
       "    </tr>\n",
       "    <tr>\n",
       "      <th>max</th>\n",
       "      <td>56045.000000</td>\n",
       "      <td>284.340030</td>\n",
       "      <td>1.167744e+06</td>\n",
       "    </tr>\n",
       "  </tbody>\n",
       "</table>\n",
       "</div>"
      ],
      "text/plain": [
       "               cfips  microbusiness_density        active\n",
       "count  122265.000000          122265.000000  1.222650e+05\n",
       "mean    30376.037640               3.817671  6.442858e+03\n",
       "std     15143.508721               4.991087  3.304001e+04\n",
       "min      1001.000000               0.000000  0.000000e+00\n",
       "25%     18177.000000               1.639344  1.450000e+02\n",
       "50%     29173.000000               2.586543  4.880000e+02\n",
       "75%     45077.000000               4.519231  2.124000e+03\n",
       "max     56045.000000             284.340030  1.167744e+06"
      ]
     },
     "execution_count": 13,
     "metadata": {},
     "output_type": "execute_result"
    }
   ],
   "source": [
    "train_set.describe()"
   ]
  },
  {
   "cell_type": "code",
   "execution_count": 14,
   "id": "2ea13314",
   "metadata": {
    "execution": {
     "iopub.execute_input": "2023-02-15T04:30:09.912289Z",
     "iopub.status.busy": "2023-02-15T04:30:09.911462Z",
     "iopub.status.idle": "2023-02-15T04:30:09.943044Z",
     "shell.execute_reply": "2023-02-15T04:30:09.941694Z"
    },
    "papermill": {
     "duration": 0.052198,
     "end_time": "2023-02-15T04:30:09.945953",
     "exception": false,
     "start_time": "2023-02-15T04:30:09.893755",
     "status": "completed"
    },
    "tags": []
   },
   "outputs": [
    {
     "data": {
      "text/plain": [
       "row_id                   0\n",
       "cfips                    0\n",
       "county                   0\n",
       "state                    0\n",
       "first_day_of_month       0\n",
       "microbusiness_density    0\n",
       "active                   0\n",
       "dtype: int64"
      ]
     },
     "execution_count": 14,
     "metadata": {},
     "output_type": "execute_result"
    }
   ],
   "source": [
    "train_set.isnull().sum() #get counts for null vals"
   ]
  },
  {
   "cell_type": "code",
   "execution_count": 15,
   "id": "249a9ead",
   "metadata": {
    "execution": {
     "iopub.execute_input": "2023-02-15T04:30:09.981078Z",
     "iopub.status.busy": "2023-02-15T04:30:09.980309Z",
     "iopub.status.idle": "2023-02-15T04:30:10.078244Z",
     "shell.execute_reply": "2023-02-15T04:30:10.076919Z"
    },
    "papermill": {
     "duration": 0.118514,
     "end_time": "2023-02-15T04:30:10.080821",
     "exception": false,
     "start_time": "2023-02-15T04:30:09.962307",
     "status": "completed"
    },
    "tags": []
   },
   "outputs": [
    {
     "data": {
      "text/html": [
       "<div>\n",
       "<style scoped>\n",
       "    .dataframe tbody tr th:only-of-type {\n",
       "        vertical-align: middle;\n",
       "    }\n",
       "\n",
       "    .dataframe tbody tr th {\n",
       "        vertical-align: top;\n",
       "    }\n",
       "\n",
       "    .dataframe thead th {\n",
       "        text-align: right;\n",
       "    }\n",
       "</style>\n",
       "<table border=\"1\" class=\"dataframe\">\n",
       "  <thead>\n",
       "    <tr style=\"text-align: right;\">\n",
       "      <th></th>\n",
       "      <th>row_id</th>\n",
       "      <th>cfips</th>\n",
       "      <th>county</th>\n",
       "      <th>state</th>\n",
       "      <th>first_day_of_month</th>\n",
       "      <th>microbusiness_density</th>\n",
       "      <th>active</th>\n",
       "    </tr>\n",
       "  </thead>\n",
       "  <tbody>\n",
       "  </tbody>\n",
       "</table>\n",
       "</div>"
      ],
      "text/plain": [
       "Empty DataFrame\n",
       "Columns: [row_id, cfips, county, state, first_day_of_month, microbusiness_density, active]\n",
       "Index: []"
      ]
     },
     "execution_count": 15,
     "metadata": {},
     "output_type": "execute_result"
    }
   ],
   "source": [
    "#check for dupes\n",
    "train_dups = train_set[train_set.duplicated()]\n",
    "train_dups"
   ]
  },
  {
   "cell_type": "code",
   "execution_count": 16,
   "id": "a84219f3",
   "metadata": {
    "execution": {
     "iopub.execute_input": "2023-02-15T04:30:10.115892Z",
     "iopub.status.busy": "2023-02-15T04:30:10.115227Z",
     "iopub.status.idle": "2023-02-15T04:30:10.196975Z",
     "shell.execute_reply": "2023-02-15T04:30:10.195633Z"
    },
    "papermill": {
     "duration": 0.102031,
     "end_time": "2023-02-15T04:30:10.199267",
     "exception": false,
     "start_time": "2023-02-15T04:30:10.097236",
     "status": "completed"
    },
    "tags": []
   },
   "outputs": [
    {
     "data": {
      "text/plain": [
       "row_id                   122265\n",
       "cfips                      3135\n",
       "county                     1871\n",
       "state                        51\n",
       "first_day_of_month           39\n",
       "microbusiness_density     97122\n",
       "active                    19193\n",
       "dtype: int64"
      ]
     },
     "execution_count": 16,
     "metadata": {},
     "output_type": "execute_result"
    }
   ],
   "source": [
    "train_set.nunique() #check unique vals in dataset"
   ]
  },
  {
   "cell_type": "code",
   "execution_count": 17,
   "id": "5bae4786",
   "metadata": {
    "execution": {
     "iopub.execute_input": "2023-02-15T04:30:10.234743Z",
     "iopub.status.busy": "2023-02-15T04:30:10.234290Z",
     "iopub.status.idle": "2023-02-15T04:30:10.276430Z",
     "shell.execute_reply": "2023-02-15T04:30:10.275208Z"
    },
    "papermill": {
     "duration": 0.06302,
     "end_time": "2023-02-15T04:30:10.279062",
     "exception": false,
     "start_time": "2023-02-15T04:30:10.216042",
     "status": "completed"
    },
    "tags": []
   },
   "outputs": [],
   "source": [
    "#create new cols with date and per year\n",
    "train_set['date'] = pd.to_datetime(train_set['first_day_of_month'])\n",
    "train_set['year'] = train_set['date'].dt.year"
   ]
  },
  {
   "cell_type": "code",
   "execution_count": 18,
   "id": "d26448d5",
   "metadata": {
    "execution": {
     "iopub.execute_input": "2023-02-15T04:30:10.315023Z",
     "iopub.status.busy": "2023-02-15T04:30:10.314537Z",
     "iopub.status.idle": "2023-02-15T04:30:10.329253Z",
     "shell.execute_reply": "2023-02-15T04:30:10.328410Z"
    },
    "papermill": {
     "duration": 0.035743,
     "end_time": "2023-02-15T04:30:10.331433",
     "exception": false,
     "start_time": "2023-02-15T04:30:10.295690",
     "status": "completed"
    },
    "tags": []
   },
   "outputs": [
    {
     "data": {
      "text/plain": [
       "count    122265.000000\n",
       "mean          3.817671\n",
       "std           4.991087\n",
       "min           0.000000\n",
       "25%           1.639344\n",
       "50%           2.586543\n",
       "75%           4.519231\n",
       "max         284.340030\n",
       "Name: microbusiness_density, dtype: float64"
      ]
     },
     "execution_count": 18,
     "metadata": {},
     "output_type": "execute_result"
    }
   ],
   "source": [
    "train_set['microbusiness_density'].describe()"
   ]
  },
  {
   "cell_type": "code",
   "execution_count": 19,
   "id": "67725480",
   "metadata": {
    "execution": {
     "iopub.execute_input": "2023-02-15T04:30:10.368650Z",
     "iopub.status.busy": "2023-02-15T04:30:10.367570Z",
     "iopub.status.idle": "2023-02-15T04:30:10.381779Z",
     "shell.execute_reply": "2023-02-15T04:30:10.380694Z"
    },
    "papermill": {
     "duration": 0.035988,
     "end_time": "2023-02-15T04:30:10.384377",
     "exception": false,
     "start_time": "2023-02-15T04:30:10.348389",
     "status": "completed"
    },
    "tags": []
   },
   "outputs": [
    {
     "data": {
      "text/plain": [
       "year\n",
       "2019    3.732905\n",
       "2020    3.722057\n",
       "2021    3.841160\n",
       "2022    3.946603\n",
       "Name: microbusiness_density, dtype: float64"
      ]
     },
     "execution_count": 19,
     "metadata": {},
     "output_type": "execute_result"
    }
   ],
   "source": [
    "#get mean density per year \n",
    "yearly_means = train_set.groupby('year')['microbusiness_density'].mean()\n",
    "yearly_means"
   ]
  },
  {
   "cell_type": "code",
   "execution_count": 20,
   "id": "9f46d156",
   "metadata": {
    "execution": {
     "iopub.execute_input": "2023-02-15T04:30:10.421847Z",
     "iopub.status.busy": "2023-02-15T04:30:10.420556Z",
     "iopub.status.idle": "2023-02-15T04:30:10.446961Z",
     "shell.execute_reply": "2023-02-15T04:30:10.445807Z"
    },
    "papermill": {
     "duration": 0.047712,
     "end_time": "2023-02-15T04:30:10.449162",
     "exception": false,
     "start_time": "2023-02-15T04:30:10.401450",
     "status": "completed"
    },
    "tags": []
   },
   "outputs": [
    {
     "data": {
      "text/plain": [
       "month\n",
       "1     3.767546\n",
       "2     3.779636\n",
       "3     3.805977\n",
       "4     3.831690\n",
       "5     3.830886\n",
       "6     3.820389\n",
       "7     3.851197\n",
       "8     3.832016\n",
       "9     3.822233\n",
       "10    3.857888\n",
       "11    3.797355\n",
       "12    3.795525\n",
       "Name: microbusiness_density, dtype: float64"
      ]
     },
     "execution_count": 20,
     "metadata": {},
     "output_type": "execute_result"
    }
   ],
   "source": [
    "#check on montly basis\n",
    "train_set['month'] = train_set['date'].dt.month\n",
    "monthly_means = train_set.groupby('month')['microbusiness_density'].mean()\n",
    "monthly_means"
   ]
  },
  {
   "cell_type": "code",
   "execution_count": 21,
   "id": "499610f3",
   "metadata": {
    "execution": {
     "iopub.execute_input": "2023-02-15T04:30:10.487699Z",
     "iopub.status.busy": "2023-02-15T04:30:10.486484Z",
     "iopub.status.idle": "2023-02-15T04:30:11.290422Z",
     "shell.execute_reply": "2023-02-15T04:30:11.289239Z"
    },
    "papermill": {
     "duration": 0.826617,
     "end_time": "2023-02-15T04:30:11.292865",
     "exception": false,
     "start_time": "2023-02-15T04:30:10.466248",
     "status": "completed"
    },
    "tags": []
   },
   "outputs": [
    {
     "data": {
      "text/plain": [
       "<AxesSubplot:xlabel='state'>"
      ]
     },
     "execution_count": 21,
     "metadata": {},
     "output_type": "execute_result"
    },
    {
     "data": {
      "image/png": "[encoded data removed]",
      "text/plain": [
       "<Figure size 864x288 with 1 Axes>"
      ]
     },
     "metadata": {
      "needs_background": "light"
     },
     "output_type": "display_data"
    }
   ],
   "source": [
    "#which state has the largest density mean?\n",
    "\n",
    "train_set.groupby('state')['microbusiness_density'].mean().plot(kind='bar', figsize = (12, 4))"
   ]
  },
  {
   "cell_type": "markdown",
   "id": "c55b3780",
   "metadata": {
    "papermill": {
     "duration": 0.017656,
     "end_time": "2023-02-15T04:30:11.328624",
     "exception": false,
     "start_time": "2023-02-15T04:30:11.310968",
     "status": "completed"
    },
    "tags": []
   },
   "source": [
    "**Data pre-processing and ML modelling**"
   ]
  },
  {
   "cell_type": "code",
   "execution_count": 22,
   "id": "7cf6d065",
   "metadata": {
    "execution": {
     "iopub.execute_input": "2023-02-15T04:30:11.366928Z",
     "iopub.status.busy": "2023-02-15T04:30:11.366442Z",
     "iopub.status.idle": "2023-02-15T04:30:11.864573Z",
     "shell.execute_reply": "2023-02-15T04:30:11.863410Z"
    },
    "papermill": {
     "duration": 0.520784,
     "end_time": "2023-02-15T04:30:11.867055",
     "exception": false,
     "start_time": "2023-02-15T04:30:11.346271",
     "status": "completed"
    },
    "tags": []
   },
   "outputs": [
    {
     "data": {
      "text/html": [
       "<div>\n",
       "<style scoped>\n",
       "    .dataframe tbody tr th:only-of-type {\n",
       "        vertical-align: middle;\n",
       "    }\n",
       "\n",
       "    .dataframe tbody tr th {\n",
       "        vertical-align: top;\n",
       "    }\n",
       "\n",
       "    .dataframe thead th {\n",
       "        text-align: right;\n",
       "    }\n",
       "</style>\n",
       "<table border=\"1\" class=\"dataframe\">\n",
       "  <thead>\n",
       "    <tr style=\"text-align: right;\">\n",
       "      <th></th>\n",
       "      <th>row_id</th>\n",
       "      <th>cfips</th>\n",
       "      <th>county</th>\n",
       "      <th>state</th>\n",
       "      <th>first_day_of_month</th>\n",
       "      <th>microbusiness_density</th>\n",
       "      <th>active</th>\n",
       "      <th>date</th>\n",
       "      <th>year</th>\n",
       "      <th>month</th>\n",
       "    </tr>\n",
       "  </thead>\n",
       "  <tbody>\n",
       "    <tr>\n",
       "      <th>0</th>\n",
       "      <td>117</td>\n",
       "      <td>1001</td>\n",
       "      <td>82</td>\n",
       "      <td>0</td>\n",
       "      <td>0</td>\n",
       "      <td>3.007682</td>\n",
       "      <td>1249</td>\n",
       "      <td>2019-08-01</td>\n",
       "      <td>2019</td>\n",
       "      <td>8</td>\n",
       "    </tr>\n",
       "    <tr>\n",
       "      <th>1</th>\n",
       "      <td>118</td>\n",
       "      <td>1001</td>\n",
       "      <td>82</td>\n",
       "      <td>0</td>\n",
       "      <td>1</td>\n",
       "      <td>2.884870</td>\n",
       "      <td>1198</td>\n",
       "      <td>2019-09-01</td>\n",
       "      <td>2019</td>\n",
       "      <td>9</td>\n",
       "    </tr>\n",
       "    <tr>\n",
       "      <th>2</th>\n",
       "      <td>119</td>\n",
       "      <td>1001</td>\n",
       "      <td>82</td>\n",
       "      <td>0</td>\n",
       "      <td>2</td>\n",
       "      <td>3.055843</td>\n",
       "      <td>1269</td>\n",
       "      <td>2019-10-01</td>\n",
       "      <td>2019</td>\n",
       "      <td>10</td>\n",
       "    </tr>\n",
       "    <tr>\n",
       "      <th>3</th>\n",
       "      <td>120</td>\n",
       "      <td>1001</td>\n",
       "      <td>82</td>\n",
       "      <td>0</td>\n",
       "      <td>3</td>\n",
       "      <td>2.993233</td>\n",
       "      <td>1243</td>\n",
       "      <td>2019-11-01</td>\n",
       "      <td>2019</td>\n",
       "      <td>11</td>\n",
       "    </tr>\n",
       "    <tr>\n",
       "      <th>4</th>\n",
       "      <td>121</td>\n",
       "      <td>1001</td>\n",
       "      <td>82</td>\n",
       "      <td>0</td>\n",
       "      <td>4</td>\n",
       "      <td>2.993233</td>\n",
       "      <td>1243</td>\n",
       "      <td>2019-12-01</td>\n",
       "      <td>2019</td>\n",
       "      <td>12</td>\n",
       "    </tr>\n",
       "    <tr>\n",
       "      <th>...</th>\n",
       "      <td>...</td>\n",
       "      <td>...</td>\n",
       "      <td>...</td>\n",
       "      <td>...</td>\n",
       "      <td>...</td>\n",
       "      <td>...</td>\n",
       "      <td>...</td>\n",
       "      <td>...</td>\n",
       "      <td>...</td>\n",
       "      <td>...</td>\n",
       "    </tr>\n",
       "    <tr>\n",
       "      <th>122260</th>\n",
       "      <td>117190</td>\n",
       "      <td>56045</td>\n",
       "      <td>1793</td>\n",
       "      <td>50</td>\n",
       "      <td>34</td>\n",
       "      <td>1.803249</td>\n",
       "      <td>101</td>\n",
       "      <td>2022-06-01</td>\n",
       "      <td>2022</td>\n",
       "      <td>6</td>\n",
       "    </tr>\n",
       "    <tr>\n",
       "      <th>122261</th>\n",
       "      <td>117191</td>\n",
       "      <td>56045</td>\n",
       "      <td>1793</td>\n",
       "      <td>50</td>\n",
       "      <td>35</td>\n",
       "      <td>1.803249</td>\n",
       "      <td>101</td>\n",
       "      <td>2022-07-01</td>\n",
       "      <td>2022</td>\n",
       "      <td>7</td>\n",
       "    </tr>\n",
       "    <tr>\n",
       "      <th>122262</th>\n",
       "      <td>117192</td>\n",
       "      <td>56045</td>\n",
       "      <td>1793</td>\n",
       "      <td>50</td>\n",
       "      <td>36</td>\n",
       "      <td>1.785395</td>\n",
       "      <td>100</td>\n",
       "      <td>2022-08-01</td>\n",
       "      <td>2022</td>\n",
       "      <td>8</td>\n",
       "    </tr>\n",
       "    <tr>\n",
       "      <th>122263</th>\n",
       "      <td>117193</td>\n",
       "      <td>56045</td>\n",
       "      <td>1793</td>\n",
       "      <td>50</td>\n",
       "      <td>37</td>\n",
       "      <td>1.785395</td>\n",
       "      <td>100</td>\n",
       "      <td>2022-09-01</td>\n",
       "      <td>2022</td>\n",
       "      <td>9</td>\n",
       "    </tr>\n",
       "    <tr>\n",
       "      <th>122264</th>\n",
       "      <td>117194</td>\n",
       "      <td>56045</td>\n",
       "      <td>1793</td>\n",
       "      <td>50</td>\n",
       "      <td>38</td>\n",
       "      <td>1.785395</td>\n",
       "      <td>100</td>\n",
       "      <td>2022-10-01</td>\n",
       "      <td>2022</td>\n",
       "      <td>10</td>\n",
       "    </tr>\n",
       "  </tbody>\n",
       "</table>\n",
       "<p>122265 rows × 10 columns</p>\n",
       "</div>"
      ],
      "text/plain": [
       "        row_id  cfips  county  state  first_day_of_month  \\\n",
       "0          117   1001      82      0                   0   \n",
       "1          118   1001      82      0                   1   \n",
       "2          119   1001      82      0                   2   \n",
       "3          120   1001      82      0                   3   \n",
       "4          121   1001      82      0                   4   \n",
       "...        ...    ...     ...    ...                 ...   \n",
       "122260  117190  56045    1793     50                  34   \n",
       "122261  117191  56045    1793     50                  35   \n",
       "122262  117192  56045    1793     50                  36   \n",
       "122263  117193  56045    1793     50                  37   \n",
       "122264  117194  56045    1793     50                  38   \n",
       "\n",
       "        microbusiness_density  active       date  year  month  \n",
       "0                    3.007682    1249 2019-08-01  2019      8  \n",
       "1                    2.884870    1198 2019-09-01  2019      9  \n",
       "2                    3.055843    1269 2019-10-01  2019     10  \n",
       "3                    2.993233    1243 2019-11-01  2019     11  \n",
       "4                    2.993233    1243 2019-12-01  2019     12  \n",
       "...                       ...     ...        ...   ...    ...  \n",
       "122260               1.803249     101 2022-06-01  2022      6  \n",
       "122261               1.803249     101 2022-07-01  2022      7  \n",
       "122262               1.785395     100 2022-08-01  2022      8  \n",
       "122263               1.785395     100 2022-09-01  2022      9  \n",
       "122264               1.785395     100 2022-10-01  2022     10  \n",
       "\n",
       "[122265 rows x 10 columns]"
      ]
     },
     "execution_count": 22,
     "metadata": {},
     "output_type": "execute_result"
    }
   ],
   "source": [
    "#will need to one hot encode features for modelling \n",
    "le = LabelEncoder()\n",
    "\n",
    "get_cat_vars = train_set.select_dtypes(include = 'object').columns\n",
    "for i in get_cat_vars:\n",
    "    train_set[i] = le.fit_transform(train_set[i])\n",
    "    \n",
    "train_set.reset_index(drop=True, inplace=True)\n",
    "train_set"
   ]
  },
  {
   "cell_type": "code",
   "execution_count": 23,
   "id": "c3832658",
   "metadata": {
    "execution": {
     "iopub.execute_input": "2023-02-15T04:30:11.904673Z",
     "iopub.status.busy": "2023-02-15T04:30:11.903884Z",
     "iopub.status.idle": "2023-02-15T04:30:11.947605Z",
     "shell.execute_reply": "2023-02-15T04:30:11.946279Z"
    },
    "papermill": {
     "duration": 0.065278,
     "end_time": "2023-02-15T04:30:11.950059",
     "exception": false,
     "start_time": "2023-02-15T04:30:11.884781",
     "status": "completed"
    },
    "tags": []
   },
   "outputs": [
    {
     "data": {
      "text/html": [
       "<div>\n",
       "<style scoped>\n",
       "    .dataframe tbody tr th:only-of-type {\n",
       "        vertical-align: middle;\n",
       "    }\n",
       "\n",
       "    .dataframe tbody tr th {\n",
       "        vertical-align: top;\n",
       "    }\n",
       "\n",
       "    .dataframe thead th {\n",
       "        text-align: right;\n",
       "    }\n",
       "</style>\n",
       "<table border=\"1\" class=\"dataframe\">\n",
       "  <thead>\n",
       "    <tr style=\"text-align: right;\">\n",
       "      <th></th>\n",
       "      <th>row_id</th>\n",
       "      <th>cfips</th>\n",
       "      <th>county</th>\n",
       "      <th>state</th>\n",
       "      <th>first_day_of_month</th>\n",
       "      <th>active</th>\n",
       "      <th>year</th>\n",
       "      <th>month</th>\n",
       "    </tr>\n",
       "  </thead>\n",
       "  <tbody>\n",
       "    <tr>\n",
       "      <th>0</th>\n",
       "      <td>117</td>\n",
       "      <td>1001</td>\n",
       "      <td>82</td>\n",
       "      <td>0</td>\n",
       "      <td>0</td>\n",
       "      <td>1249</td>\n",
       "      <td>2019</td>\n",
       "      <td>8</td>\n",
       "    </tr>\n",
       "    <tr>\n",
       "      <th>1</th>\n",
       "      <td>118</td>\n",
       "      <td>1001</td>\n",
       "      <td>82</td>\n",
       "      <td>0</td>\n",
       "      <td>1</td>\n",
       "      <td>1198</td>\n",
       "      <td>2019</td>\n",
       "      <td>9</td>\n",
       "    </tr>\n",
       "    <tr>\n",
       "      <th>2</th>\n",
       "      <td>119</td>\n",
       "      <td>1001</td>\n",
       "      <td>82</td>\n",
       "      <td>0</td>\n",
       "      <td>2</td>\n",
       "      <td>1269</td>\n",
       "      <td>2019</td>\n",
       "      <td>10</td>\n",
       "    </tr>\n",
       "    <tr>\n",
       "      <th>3</th>\n",
       "      <td>120</td>\n",
       "      <td>1001</td>\n",
       "      <td>82</td>\n",
       "      <td>0</td>\n",
       "      <td>3</td>\n",
       "      <td>1243</td>\n",
       "      <td>2019</td>\n",
       "      <td>11</td>\n",
       "    </tr>\n",
       "    <tr>\n",
       "      <th>4</th>\n",
       "      <td>121</td>\n",
       "      <td>1001</td>\n",
       "      <td>82</td>\n",
       "      <td>0</td>\n",
       "      <td>4</td>\n",
       "      <td>1243</td>\n",
       "      <td>2019</td>\n",
       "      <td>12</td>\n",
       "    </tr>\n",
       "    <tr>\n",
       "      <th>...</th>\n",
       "      <td>...</td>\n",
       "      <td>...</td>\n",
       "      <td>...</td>\n",
       "      <td>...</td>\n",
       "      <td>...</td>\n",
       "      <td>...</td>\n",
       "      <td>...</td>\n",
       "      <td>...</td>\n",
       "    </tr>\n",
       "    <tr>\n",
       "      <th>122250</th>\n",
       "      <td>117180</td>\n",
       "      <td>56045</td>\n",
       "      <td>1793</td>\n",
       "      <td>50</td>\n",
       "      <td>24</td>\n",
       "      <td>93</td>\n",
       "      <td>2021</td>\n",
       "      <td>8</td>\n",
       "    </tr>\n",
       "    <tr>\n",
       "      <th>122251</th>\n",
       "      <td>117181</td>\n",
       "      <td>56045</td>\n",
       "      <td>1793</td>\n",
       "      <td>50</td>\n",
       "      <td>25</td>\n",
       "      <td>94</td>\n",
       "      <td>2021</td>\n",
       "      <td>9</td>\n",
       "    </tr>\n",
       "    <tr>\n",
       "      <th>122252</th>\n",
       "      <td>117182</td>\n",
       "      <td>56045</td>\n",
       "      <td>1793</td>\n",
       "      <td>50</td>\n",
       "      <td>26</td>\n",
       "      <td>93</td>\n",
       "      <td>2021</td>\n",
       "      <td>10</td>\n",
       "    </tr>\n",
       "    <tr>\n",
       "      <th>122253</th>\n",
       "      <td>117183</td>\n",
       "      <td>56045</td>\n",
       "      <td>1793</td>\n",
       "      <td>50</td>\n",
       "      <td>27</td>\n",
       "      <td>98</td>\n",
       "      <td>2021</td>\n",
       "      <td>11</td>\n",
       "    </tr>\n",
       "    <tr>\n",
       "      <th>122254</th>\n",
       "      <td>117184</td>\n",
       "      <td>56045</td>\n",
       "      <td>1793</td>\n",
       "      <td>50</td>\n",
       "      <td>28</td>\n",
       "      <td>100</td>\n",
       "      <td>2021</td>\n",
       "      <td>12</td>\n",
       "    </tr>\n",
       "  </tbody>\n",
       "</table>\n",
       "<p>90915 rows × 8 columns</p>\n",
       "</div>"
      ],
      "text/plain": [
       "        row_id  cfips  county  state  first_day_of_month  active  year  month\n",
       "0          117   1001      82      0                   0    1249  2019      8\n",
       "1          118   1001      82      0                   1    1198  2019      9\n",
       "2          119   1001      82      0                   2    1269  2019     10\n",
       "3          120   1001      82      0                   3    1243  2019     11\n",
       "4          121   1001      82      0                   4    1243  2019     12\n",
       "...        ...    ...     ...    ...                 ...     ...   ...    ...\n",
       "122250  117180  56045    1793     50                  24      93  2021      8\n",
       "122251  117181  56045    1793     50                  25      94  2021      9\n",
       "122252  117182  56045    1793     50                  26      93  2021     10\n",
       "122253  117183  56045    1793     50                  27      98  2021     11\n",
       "122254  117184  56045    1793     50                  28     100  2021     12\n",
       "\n",
       "[90915 rows x 8 columns]"
      ]
     },
     "execution_count": 23,
     "metadata": {},
     "output_type": "execute_result"
    }
   ],
   "source": [
    "#since this is time series data - lets just use the 2021 data \n",
    "train_data = train_set[train_set['date'] < '2022-01-01']\n",
    "val_data = train_set[train_set['date'] >= '2022-01-01']\n",
    "\n",
    "\n",
    "#for training lets separate via X and Y training based on month and density\n",
    "\n",
    "# for training data\n",
    "X_train = train_data.drop(columns = ['microbusiness_density','date'], axis=1)\n",
    "y_train = train_data['microbusiness_density']\n",
    "\n",
    "# for validation data\n",
    "X_val = val_data.drop(columns = ['microbusiness_density', 'date'], axis=1)\n",
    "y_val = val_data['microbusiness_density']\n",
    "\n",
    "X_train"
   ]
  },
  {
   "cell_type": "code",
   "execution_count": 24,
   "id": "4c940c33",
   "metadata": {
    "execution": {
     "iopub.execute_input": "2023-02-15T04:30:11.988496Z",
     "iopub.status.busy": "2023-02-15T04:30:11.987398Z",
     "iopub.status.idle": "2023-02-15T04:30:11.994627Z",
     "shell.execute_reply": "2023-02-15T04:30:11.993558Z"
    },
    "papermill": {
     "duration": 0.028857,
     "end_time": "2023-02-15T04:30:11.996985",
     "exception": false,
     "start_time": "2023-02-15T04:30:11.968128",
     "status": "completed"
    },
    "tags": []
   },
   "outputs": [
    {
     "name": "stdout",
     "output_type": "stream",
     "text": [
      "(90915, 8)\n",
      "(90915,)\n",
      "(31350, 8)\n",
      "(31350,)\n"
     ]
    }
   ],
   "source": [
    "#check shape of data \n",
    "\n",
    "print(X_train.shape)\n",
    "print(y_train.shape)\n",
    "\n",
    "print(X_val.shape)\n",
    "print(y_val.shape)"
   ]
  },
  {
   "cell_type": "code",
   "execution_count": 25,
   "id": "b69525d6",
   "metadata": {
    "execution": {
     "iopub.execute_input": "2023-02-15T04:30:12.035270Z",
     "iopub.status.busy": "2023-02-15T04:30:12.034858Z",
     "iopub.status.idle": "2023-02-15T04:30:58.393514Z",
     "shell.execute_reply": "2023-02-15T04:30:58.392281Z"
    },
    "papermill": {
     "duration": 46.398981,
     "end_time": "2023-02-15T04:30:58.414217",
     "exception": false,
     "start_time": "2023-02-15T04:30:12.015236",
     "status": "completed"
    },
    "tags": []
   },
   "outputs": [
    {
     "data": {
      "text/plain": [
       "RandomForestRegressor()"
      ]
     },
     "execution_count": 25,
     "metadata": {},
     "output_type": "execute_result"
    }
   ],
   "source": [
    "#instantiate RF regressor for modelling \n",
    "\n",
    "rf = RandomForestRegressor()\n",
    "\n",
    "rf.fit(X_train, y_train)"
   ]
  },
  {
   "cell_type": "code",
   "execution_count": 26,
   "id": "08082830",
   "metadata": {
    "execution": {
     "iopub.execute_input": "2023-02-15T04:30:58.452134Z",
     "iopub.status.busy": "2023-02-15T04:30:58.451736Z",
     "iopub.status.idle": "2023-02-15T04:30:59.033695Z",
     "shell.execute_reply": "2023-02-15T04:30:59.032549Z"
    },
    "papermill": {
     "duration": 0.603957,
     "end_time": "2023-02-15T04:30:59.036145",
     "exception": false,
     "start_time": "2023-02-15T04:30:58.432188",
     "status": "completed"
    },
    "tags": []
   },
   "outputs": [
    {
     "data": {
      "text/plain": [
       "array([3.20617778, 3.22487662, 3.22601473, ..., 1.76961804, 1.76919562,\n",
       "       1.76919562])"
      ]
     },
     "execution_count": 26,
     "metadata": {},
     "output_type": "execute_result"
    }
   ],
   "source": [
    "pred = rf.predict(X_val)\n",
    "pred"
   ]
  },
  {
   "cell_type": "code",
   "execution_count": 27,
   "id": "325369b7",
   "metadata": {
    "execution": {
     "iopub.execute_input": "2023-02-15T04:30:59.074962Z",
     "iopub.status.busy": "2023-02-15T04:30:59.074514Z",
     "iopub.status.idle": "2023-02-15T04:30:59.083265Z",
     "shell.execute_reply": "2023-02-15T04:30:59.082100Z"
    },
    "papermill": {
     "duration": 0.030624,
     "end_time": "2023-02-15T04:30:59.085503",
     "exception": false,
     "start_time": "2023-02-15T04:30:59.054879",
     "status": "completed"
    },
    "tags": []
   },
   "outputs": [
    {
     "data": {
      "text/plain": [
       "4.535933733867775"
      ]
     },
     "execution_count": 27,
     "metadata": {},
     "output_type": "execute_result"
    }
   ],
   "source": [
    "#evaluate - MSE for regression\n",
    "mean_squared_error(y_val,pred)"
   ]
  },
  {
   "cell_type": "markdown",
   "id": "ff821dd4",
   "metadata": {
    "papermill": {
     "duration": 0.018295,
     "end_time": "2023-02-15T04:30:59.122892",
     "exception": false,
     "start_time": "2023-02-15T04:30:59.104597",
     "status": "completed"
    },
    "tags": []
   },
   "source": [
    "Lets compare against regular linear regression model\n"
   ]
  },
  {
   "cell_type": "code",
   "execution_count": 28,
   "id": "8d65a470",
   "metadata": {
    "execution": {
     "iopub.execute_input": "2023-02-15T04:30:59.162056Z",
     "iopub.status.busy": "2023-02-15T04:30:59.161641Z",
     "iopub.status.idle": "2023-02-15T04:30:59.204515Z",
     "shell.execute_reply": "2023-02-15T04:30:59.203647Z"
    },
    "papermill": {
     "duration": 0.06735,
     "end_time": "2023-02-15T04:30:59.208864",
     "exception": false,
     "start_time": "2023-02-15T04:30:59.141514",
     "status": "completed"
    },
    "tags": []
   },
   "outputs": [
    {
     "data": {
      "text/plain": [
       "LinearRegression()"
      ]
     },
     "execution_count": 28,
     "metadata": {},
     "output_type": "execute_result"
    }
   ],
   "source": [
    "lr = LinearRegression()\n",
    "lr.fit(X_train, y_train)"
   ]
  },
  {
   "cell_type": "code",
   "execution_count": 29,
   "id": "149d6411",
   "metadata": {
    "execution": {
     "iopub.execute_input": "2023-02-15T04:30:59.271390Z",
     "iopub.status.busy": "2023-02-15T04:30:59.271008Z",
     "iopub.status.idle": "2023-02-15T04:30:59.285964Z",
     "shell.execute_reply": "2023-02-15T04:30:59.284638Z"
    },
    "papermill": {
     "duration": 0.038765,
     "end_time": "2023-02-15T04:30:59.289753",
     "exception": false,
     "start_time": "2023-02-15T04:30:59.250988",
     "status": "completed"
    },
    "tags": []
   },
   "outputs": [
    {
     "data": {
      "text/plain": [
       "30.27420526051922"
      ]
     },
     "execution_count": 29,
     "metadata": {},
     "output_type": "execute_result"
    }
   ],
   "source": [
    "lm_pred = lr.predict(X_val)\n",
    "mean_squared_error(y_val,lm_pred)"
   ]
  },
  {
   "cell_type": "markdown",
   "id": "b3626024",
   "metadata": {
    "papermill": {
     "duration": 0.045312,
     "end_time": "2023-02-15T04:30:59.380905",
     "exception": false,
     "start_time": "2023-02-15T04:30:59.335593",
     "status": "completed"
    },
    "tags": []
   },
   "source": [
    "So random forest is definitely the better model based on MSE"
   ]
  },
  {
   "cell_type": "markdown",
   "id": "1e5fb34b",
   "metadata": {
    "papermill": {
     "duration": 0.018564,
     "end_time": "2023-02-15T04:30:59.428956",
     "exception": false,
     "start_time": "2023-02-15T04:30:59.410392",
     "status": "completed"
    },
    "tags": []
   },
   "source": [
    "Let's also compare a different algorithm - using decision tree"
   ]
  },
  {
   "cell_type": "code",
   "execution_count": 30,
   "id": "18cf2d7a",
   "metadata": {
    "execution": {
     "iopub.execute_input": "2023-02-15T04:30:59.468118Z",
     "iopub.status.busy": "2023-02-15T04:30:59.467672Z",
     "iopub.status.idle": "2023-02-15T04:31:00.203847Z",
     "shell.execute_reply": "2023-02-15T04:31:00.202652Z"
    },
    "papermill": {
     "duration": 0.758765,
     "end_time": "2023-02-15T04:31:00.206469",
     "exception": false,
     "start_time": "2023-02-15T04:30:59.447704",
     "status": "completed"
    },
    "tags": []
   },
   "outputs": [
    {
     "data": {
      "text/plain": [
       "8.26363523823766"
      ]
     },
     "execution_count": 30,
     "metadata": {},
     "output_type": "execute_result"
    }
   ],
   "source": [
    "DTReg = DecisionTreeRegressor()\n",
    "DTReg.fit(X_train, y_train)\n",
    "\n",
    "DT_preds = DTReg.predict(X_val)\n",
    "\n",
    "mean_squared_error(y_val,DT_preds)"
   ]
  },
  {
   "cell_type": "markdown",
   "id": "964778e3",
   "metadata": {
    "papermill": {
     "duration": 0.018275,
     "end_time": "2023-02-15T04:31:00.243425",
     "exception": false,
     "start_time": "2023-02-15T04:31:00.225150",
     "status": "completed"
    },
    "tags": []
   },
   "source": [
    "So looks like RF is the better model between LR and DT models\n",
    "Therefore, we can perform hyperparameter tuning to enhance the performance of our model"
   ]
  },
  {
   "cell_type": "markdown",
   "id": "2381aaa6",
   "metadata": {
    "papermill": {
     "duration": 0.018346,
     "end_time": "2023-02-15T04:31:00.280460",
     "exception": false,
     "start_time": "2023-02-15T04:31:00.262114",
     "status": "completed"
    },
    "tags": []
   },
   "source": [
    "**Hyperparameter tuning**\n",
    "- to improve accuracy of model --> ie max depth of trees, n_estimators etc"
   ]
  },
  {
   "cell_type": "code",
   "execution_count": 31,
   "id": "6d8313d9",
   "metadata": {
    "execution": {
     "iopub.execute_input": "2023-02-15T04:31:00.320639Z",
     "iopub.status.busy": "2023-02-15T04:31:00.319540Z",
     "iopub.status.idle": "2023-02-15T04:31:00.326483Z",
     "shell.execute_reply": "2023-02-15T04:31:00.325625Z"
    },
    "papermill": {
     "duration": 0.02967,
     "end_time": "2023-02-15T04:31:00.328919",
     "exception": false,
     "start_time": "2023-02-15T04:31:00.299249",
     "status": "completed"
    },
    "tags": []
   },
   "outputs": [],
   "source": [
    "def get_hyperparameters_rf(**params):\n",
    "    \"\"\"\n",
    "    function to get hyperparameters for rf model\n",
    "    \"\"\"\n",
    "    model = RandomForestRegressor(**params).fit(X_train,y_train)\n",
    "    train_pred = model.predict(X_train)\n",
    "    val_pred = model.predict(X_val)\n",
    "    return f'the MSE of training set: {mean_squared_error(y_train,train_pred)} and MSE of val set: {mean_squared_error(y_val,val_pred)}'"
   ]
  },
  {
   "cell_type": "code",
   "execution_count": 32,
   "id": "761f0efb",
   "metadata": {
    "execution": {
     "iopub.execute_input": "2023-02-15T04:31:00.368868Z",
     "iopub.status.busy": "2023-02-15T04:31:00.368069Z",
     "iopub.status.idle": "2023-02-15T04:31:48.918000Z",
     "shell.execute_reply": "2023-02-15T04:31:48.916762Z"
    },
    "papermill": {
     "duration": 48.592308,
     "end_time": "2023-02-15T04:31:48.939954",
     "exception": false,
     "start_time": "2023-02-15T04:31:00.347646",
     "status": "completed"
    },
    "tags": []
   },
   "outputs": [
    {
     "data": {
      "text/plain": [
       "'the MSE of training set: 0.130571703040987 and MSE of val set: 4.5224687553909515'"
      ]
     },
     "execution_count": 32,
     "metadata": {},
     "output_type": "execute_result"
    }
   ],
   "source": [
    "get_hyperparameters_rf(max_depth = 40, n_estimators = 100)"
   ]
  }
 ],
 "metadata": {
  "kernelspec": {
   "display_name": "Python 3",
   "language": "python",
   "name": "python3"
  },
  "language_info": {
   "codemirror_mode": {
    "name": "ipython",
    "version": 3
   },
   "file_extension": ".py",
   "mimetype": "text/x-python",
   "name": "python",
   "nbconvert_exporter": "python",
   "pygments_lexer": "ipython3",
   "version": "3.7.12"
  },
  "papermill": {
   "default_parameters": {},
   "duration": 118.086452,
   "end_time": "2023-02-15T04:31:49.983129",
   "environment_variables": {},
   "exception": null,
   "input_path": "__notebook__.ipynb",
   "output_path": "__notebook__.ipynb",
   "parameters": {},
   "start_time": "2023-02-15T04:29:51.896677",
   "version": "2.3.4"
  }
 },
 "nbformat": 4,
 "nbformat_minor": 5
}
