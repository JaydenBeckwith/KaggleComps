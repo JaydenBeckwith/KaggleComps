{
 "cells": [
  {
   "cell_type": "code",
   "execution_count": 1,
   "id": "3e094e42",
   "metadata": {
    "_cell_guid": "b1076dfc-b9ad-4769-8c92-a6c4dae69d19",
    "_uuid": "8f2839f25d086af736a60e9eeb907d3b93b6e0e5",
    "execution": {
     "iopub.execute_input": "2023-02-13T11:06:09.653435Z",
     "iopub.status.busy": "2023-02-13T11:06:09.652865Z",
     "iopub.status.idle": "2023-02-13T11:06:12.025095Z",
     "shell.execute_reply": "2023-02-13T11:06:12.023721Z"
    },
    "papermill": {
     "duration": 2.385827,
     "end_time": "2023-02-13T11:06:12.029277",
     "exception": false,
     "start_time": "2023-02-13T11:06:09.643450",
     "status": "completed"
    },
    "tags": []
   },
   "outputs": [
    {
     "name": "stdout",
     "output_type": "stream",
     "text": [
      "/kaggle/input/godaddy-microbusiness-density-forecasting/sample_submission.csv\n",
      "/kaggle/input/godaddy-microbusiness-density-forecasting/census_starter.csv\n",
      "/kaggle/input/godaddy-microbusiness-density-forecasting/train.csv\n",
      "/kaggle/input/godaddy-microbusiness-density-forecasting/test.csv\n"
     ]
    }
   ],
   "source": [
    "#imports \n",
    "import numpy as np\n",
    "import pandas as pd \n",
    "import seaborn as sns\n",
    "from matplotlib import pyplot as plt\n",
    "import plotly.express as px\n",
    "import os\n",
    "for dirname, _, filenames in os.walk('/kaggle/input'):\n",
    "    for filename in filenames:\n",
    "        print(os.path.join(dirname, filename))\n",
    "\n"
   ]
  },
  {
   "cell_type": "code",
   "execution_count": 2,
   "id": "06e7b5f9",
   "metadata": {
    "execution": {
     "iopub.execute_input": "2023-02-13T11:06:12.043818Z",
     "iopub.status.busy": "2023-02-13T11:06:12.043353Z",
     "iopub.status.idle": "2023-02-13T11:06:12.120838Z",
     "shell.execute_reply": "2023-02-13T11:06:12.119390Z"
    },
    "papermill": {
     "duration": 0.087816,
     "end_time": "2023-02-13T11:06:12.123808",
     "exception": false,
     "start_time": "2023-02-13T11:06:12.035992",
     "status": "completed"
    },
    "tags": []
   },
   "outputs": [
    {
     "data": {
      "text/html": [
       "<div>\n",
       "<style scoped>\n",
       "    .dataframe tbody tr th:only-of-type {\n",
       "        vertical-align: middle;\n",
       "    }\n",
       "\n",
       "    .dataframe tbody tr th {\n",
       "        vertical-align: top;\n",
       "    }\n",
       "\n",
       "    .dataframe thead th {\n",
       "        text-align: right;\n",
       "    }\n",
       "</style>\n",
       "<table border=\"1\" class=\"dataframe\">\n",
       "  <thead>\n",
       "    <tr style=\"text-align: right;\">\n",
       "      <th></th>\n",
       "      <th>pct_bb_2017</th>\n",
       "      <th>pct_bb_2018</th>\n",
       "      <th>pct_bb_2019</th>\n",
       "      <th>pct_bb_2020</th>\n",
       "      <th>pct_bb_2021</th>\n",
       "      <th>cfips</th>\n",
       "      <th>pct_college_2017</th>\n",
       "      <th>pct_college_2018</th>\n",
       "      <th>pct_college_2019</th>\n",
       "      <th>pct_college_2020</th>\n",
       "      <th>...</th>\n",
       "      <th>pct_it_workers_2017</th>\n",
       "      <th>pct_it_workers_2018</th>\n",
       "      <th>pct_it_workers_2019</th>\n",
       "      <th>pct_it_workers_2020</th>\n",
       "      <th>pct_it_workers_2021</th>\n",
       "      <th>median_hh_inc_2017</th>\n",
       "      <th>median_hh_inc_2018</th>\n",
       "      <th>median_hh_inc_2019</th>\n",
       "      <th>median_hh_inc_2020</th>\n",
       "      <th>median_hh_inc_2021</th>\n",
       "    </tr>\n",
       "  </thead>\n",
       "  <tbody>\n",
       "    <tr>\n",
       "      <th>0</th>\n",
       "      <td>76.6</td>\n",
       "      <td>78.9</td>\n",
       "      <td>80.6</td>\n",
       "      <td>82.7</td>\n",
       "      <td>85.5</td>\n",
       "      <td>1001</td>\n",
       "      <td>14.5</td>\n",
       "      <td>15.9</td>\n",
       "      <td>16.1</td>\n",
       "      <td>16.7</td>\n",
       "      <td>...</td>\n",
       "      <td>1.3</td>\n",
       "      <td>1.1</td>\n",
       "      <td>0.7</td>\n",
       "      <td>0.6</td>\n",
       "      <td>1.1</td>\n",
       "      <td>55317</td>\n",
       "      <td>58786.0</td>\n",
       "      <td>58731</td>\n",
       "      <td>57982.0</td>\n",
       "      <td>62660.0</td>\n",
       "    </tr>\n",
       "    <tr>\n",
       "      <th>1</th>\n",
       "      <td>74.5</td>\n",
       "      <td>78.1</td>\n",
       "      <td>81.8</td>\n",
       "      <td>85.1</td>\n",
       "      <td>87.9</td>\n",
       "      <td>1003</td>\n",
       "      <td>20.4</td>\n",
       "      <td>20.7</td>\n",
       "      <td>21.0</td>\n",
       "      <td>20.2</td>\n",
       "      <td>...</td>\n",
       "      <td>1.4</td>\n",
       "      <td>1.3</td>\n",
       "      <td>1.4</td>\n",
       "      <td>1.0</td>\n",
       "      <td>1.3</td>\n",
       "      <td>52562</td>\n",
       "      <td>55962.0</td>\n",
       "      <td>58320</td>\n",
       "      <td>61756.0</td>\n",
       "      <td>64346.0</td>\n",
       "    </tr>\n",
       "    <tr>\n",
       "      <th>2</th>\n",
       "      <td>57.2</td>\n",
       "      <td>60.4</td>\n",
       "      <td>60.5</td>\n",
       "      <td>64.6</td>\n",
       "      <td>64.6</td>\n",
       "      <td>1005</td>\n",
       "      <td>7.6</td>\n",
       "      <td>7.8</td>\n",
       "      <td>7.6</td>\n",
       "      <td>7.3</td>\n",
       "      <td>...</td>\n",
       "      <td>0.5</td>\n",
       "      <td>0.3</td>\n",
       "      <td>0.8</td>\n",
       "      <td>1.1</td>\n",
       "      <td>0.8</td>\n",
       "      <td>33368</td>\n",
       "      <td>34186.0</td>\n",
       "      <td>32525</td>\n",
       "      <td>34990.0</td>\n",
       "      <td>36422.0</td>\n",
       "    </tr>\n",
       "    <tr>\n",
       "      <th>3</th>\n",
       "      <td>62.0</td>\n",
       "      <td>66.1</td>\n",
       "      <td>69.2</td>\n",
       "      <td>76.1</td>\n",
       "      <td>74.6</td>\n",
       "      <td>1007</td>\n",
       "      <td>8.1</td>\n",
       "      <td>7.6</td>\n",
       "      <td>6.5</td>\n",
       "      <td>7.4</td>\n",
       "      <td>...</td>\n",
       "      <td>1.2</td>\n",
       "      <td>1.4</td>\n",
       "      <td>1.6</td>\n",
       "      <td>1.7</td>\n",
       "      <td>2.1</td>\n",
       "      <td>43404</td>\n",
       "      <td>45340.0</td>\n",
       "      <td>47542</td>\n",
       "      <td>51721.0</td>\n",
       "      <td>54277.0</td>\n",
       "    </tr>\n",
       "    <tr>\n",
       "      <th>4</th>\n",
       "      <td>65.8</td>\n",
       "      <td>68.5</td>\n",
       "      <td>73.0</td>\n",
       "      <td>79.6</td>\n",
       "      <td>81.0</td>\n",
       "      <td>1009</td>\n",
       "      <td>8.7</td>\n",
       "      <td>8.1</td>\n",
       "      <td>8.6</td>\n",
       "      <td>8.9</td>\n",
       "      <td>...</td>\n",
       "      <td>1.3</td>\n",
       "      <td>1.4</td>\n",
       "      <td>0.9</td>\n",
       "      <td>1.1</td>\n",
       "      <td>0.9</td>\n",
       "      <td>47412</td>\n",
       "      <td>48695.0</td>\n",
       "      <td>49358</td>\n",
       "      <td>48922.0</td>\n",
       "      <td>52830.0</td>\n",
       "    </tr>\n",
       "  </tbody>\n",
       "</table>\n",
       "<p>5 rows × 26 columns</p>\n",
       "</div>"
      ],
      "text/plain": [
       "   pct_bb_2017  pct_bb_2018  pct_bb_2019  pct_bb_2020  pct_bb_2021  cfips  \\\n",
       "0         76.6         78.9         80.6         82.7         85.5   1001   \n",
       "1         74.5         78.1         81.8         85.1         87.9   1003   \n",
       "2         57.2         60.4         60.5         64.6         64.6   1005   \n",
       "3         62.0         66.1         69.2         76.1         74.6   1007   \n",
       "4         65.8         68.5         73.0         79.6         81.0   1009   \n",
       "\n",
       "   pct_college_2017  pct_college_2018  pct_college_2019  pct_college_2020  \\\n",
       "0              14.5              15.9              16.1              16.7   \n",
       "1              20.4              20.7              21.0              20.2   \n",
       "2               7.6               7.8               7.6               7.3   \n",
       "3               8.1               7.6               6.5               7.4   \n",
       "4               8.7               8.1               8.6               8.9   \n",
       "\n",
       "   ...  pct_it_workers_2017  pct_it_workers_2018  pct_it_workers_2019  \\\n",
       "0  ...                  1.3                  1.1                  0.7   \n",
       "1  ...                  1.4                  1.3                  1.4   \n",
       "2  ...                  0.5                  0.3                  0.8   \n",
       "3  ...                  1.2                  1.4                  1.6   \n",
       "4  ...                  1.3                  1.4                  0.9   \n",
       "\n",
       "   pct_it_workers_2020  pct_it_workers_2021  median_hh_inc_2017  \\\n",
       "0                  0.6                  1.1               55317   \n",
       "1                  1.0                  1.3               52562   \n",
       "2                  1.1                  0.8               33368   \n",
       "3                  1.7                  2.1               43404   \n",
       "4                  1.1                  0.9               47412   \n",
       "\n",
       "   median_hh_inc_2018  median_hh_inc_2019  median_hh_inc_2020  \\\n",
       "0             58786.0               58731             57982.0   \n",
       "1             55962.0               58320             61756.0   \n",
       "2             34186.0               32525             34990.0   \n",
       "3             45340.0               47542             51721.0   \n",
       "4             48695.0               49358             48922.0   \n",
       "\n",
       "   median_hh_inc_2021  \n",
       "0             62660.0  \n",
       "1             64346.0  \n",
       "2             36422.0  \n",
       "3             54277.0  \n",
       "4             52830.0  \n",
       "\n",
       "[5 rows x 26 columns]"
      ]
     },
     "execution_count": 2,
     "metadata": {},
     "output_type": "execute_result"
    }
   ],
   "source": [
    "data = pd.read_csv(\"/kaggle/input/godaddy-microbusiness-density-forecasting/census_starter.csv\")\n",
    "data.head()"
   ]
  },
  {
   "cell_type": "code",
   "execution_count": 3,
   "id": "281098b6",
   "metadata": {
    "execution": {
     "iopub.execute_input": "2023-02-13T11:06:12.137744Z",
     "iopub.status.busy": "2023-02-13T11:06:12.137335Z",
     "iopub.status.idle": "2023-02-13T11:06:12.186758Z",
     "shell.execute_reply": "2023-02-13T11:06:12.185396Z"
    },
    "papermill": {
     "duration": 0.059246,
     "end_time": "2023-02-13T11:06:12.189139",
     "exception": false,
     "start_time": "2023-02-13T11:06:12.129893",
     "status": "completed"
    },
    "tags": []
   },
   "outputs": [
    {
     "data": {
      "text/html": [
       "<div>\n",
       "<style scoped>\n",
       "    .dataframe tbody tr th:only-of-type {\n",
       "        vertical-align: middle;\n",
       "    }\n",
       "\n",
       "    .dataframe tbody tr th {\n",
       "        vertical-align: top;\n",
       "    }\n",
       "\n",
       "    .dataframe thead th {\n",
       "        text-align: right;\n",
       "    }\n",
       "</style>\n",
       "<table border=\"1\" class=\"dataframe\">\n",
       "  <thead>\n",
       "    <tr style=\"text-align: right;\">\n",
       "      <th></th>\n",
       "      <th>row_id</th>\n",
       "      <th>microbusiness_density</th>\n",
       "    </tr>\n",
       "  </thead>\n",
       "  <tbody>\n",
       "    <tr>\n",
       "      <th>0</th>\n",
       "      <td>1001_2022-11-01</td>\n",
       "      <td>3.817671</td>\n",
       "    </tr>\n",
       "    <tr>\n",
       "      <th>1</th>\n",
       "      <td>1003_2022-11-01</td>\n",
       "      <td>3.817671</td>\n",
       "    </tr>\n",
       "    <tr>\n",
       "      <th>2</th>\n",
       "      <td>1005_2022-11-01</td>\n",
       "      <td>3.817671</td>\n",
       "    </tr>\n",
       "    <tr>\n",
       "      <th>3</th>\n",
       "      <td>1007_2022-11-01</td>\n",
       "      <td>3.817671</td>\n",
       "    </tr>\n",
       "    <tr>\n",
       "      <th>4</th>\n",
       "      <td>1009_2022-11-01</td>\n",
       "      <td>3.817671</td>\n",
       "    </tr>\n",
       "    <tr>\n",
       "      <th>...</th>\n",
       "      <td>...</td>\n",
       "      <td>...</td>\n",
       "    </tr>\n",
       "    <tr>\n",
       "      <th>25075</th>\n",
       "      <td>56037_2023-06-01</td>\n",
       "      <td>3.817671</td>\n",
       "    </tr>\n",
       "    <tr>\n",
       "      <th>25076</th>\n",
       "      <td>56039_2023-06-01</td>\n",
       "      <td>3.817671</td>\n",
       "    </tr>\n",
       "    <tr>\n",
       "      <th>25077</th>\n",
       "      <td>56041_2023-06-01</td>\n",
       "      <td>3.817671</td>\n",
       "    </tr>\n",
       "    <tr>\n",
       "      <th>25078</th>\n",
       "      <td>56043_2023-06-01</td>\n",
       "      <td>3.817671</td>\n",
       "    </tr>\n",
       "    <tr>\n",
       "      <th>25079</th>\n",
       "      <td>56045_2023-06-01</td>\n",
       "      <td>3.817671</td>\n",
       "    </tr>\n",
       "  </tbody>\n",
       "</table>\n",
       "<p>25080 rows × 2 columns</p>\n",
       "</div>"
      ],
      "text/plain": [
       "                 row_id  microbusiness_density\n",
       "0       1001_2022-11-01               3.817671\n",
       "1       1003_2022-11-01               3.817671\n",
       "2       1005_2022-11-01               3.817671\n",
       "3       1007_2022-11-01               3.817671\n",
       "4       1009_2022-11-01               3.817671\n",
       "...                 ...                    ...\n",
       "25075  56037_2023-06-01               3.817671\n",
       "25076  56039_2023-06-01               3.817671\n",
       "25077  56041_2023-06-01               3.817671\n",
       "25078  56043_2023-06-01               3.817671\n",
       "25079  56045_2023-06-01               3.817671\n",
       "\n",
       "[25080 rows x 2 columns]"
      ]
     },
     "execution_count": 3,
     "metadata": {},
     "output_type": "execute_result"
    }
   ],
   "source": [
    "sample_sub = pd.read_csv('/kaggle/input/godaddy-microbusiness-density-forecasting/sample_submission.csv')\n",
    "sample_sub"
   ]
  },
  {
   "cell_type": "code",
   "execution_count": 4,
   "id": "bdf5439a",
   "metadata": {
    "execution": {
     "iopub.execute_input": "2023-02-13T11:06:12.203653Z",
     "iopub.status.busy": "2023-02-13T11:06:12.203221Z",
     "iopub.status.idle": "2023-02-13T11:06:12.558160Z",
     "shell.execute_reply": "2023-02-13T11:06:12.556778Z"
    },
    "papermill": {
     "duration": 0.365605,
     "end_time": "2023-02-13T11:06:12.561224",
     "exception": false,
     "start_time": "2023-02-13T11:06:12.195619",
     "status": "completed"
    },
    "tags": []
   },
   "outputs": [],
   "source": [
    "test_set = pd.read_csv(\"/kaggle/input/godaddy-microbusiness-density-forecasting/test.csv\")\n",
    "train_set = pd.read_csv(\"/kaggle/input/godaddy-microbusiness-density-forecasting/train.csv\")"
   ]
  },
  {
   "cell_type": "markdown",
   "id": "cfb8d06c",
   "metadata": {
    "papermill": {
     "duration": 0.006624,
     "end_time": "2023-02-13T11:06:12.574280",
     "exception": false,
     "start_time": "2023-02-13T11:06:12.567656",
     "status": "completed"
    },
    "tags": []
   },
   "source": [
    "Lets perform some EDA and feature engineering\n",
    "\n",
    "- data cleaning\n",
    "- exploration\n",
    "- feature engineering, i.e get month and year etc"
   ]
  },
  {
   "cell_type": "code",
   "execution_count": 5,
   "id": "21e18e52",
   "metadata": {
    "execution": {
     "iopub.execute_input": "2023-02-13T11:06:12.589037Z",
     "iopub.status.busy": "2023-02-13T11:06:12.588559Z",
     "iopub.status.idle": "2023-02-13T11:06:12.690131Z",
     "shell.execute_reply": "2023-02-13T11:06:12.688292Z"
    },
    "papermill": {
     "duration": 0.112358,
     "end_time": "2023-02-13T11:06:12.692981",
     "exception": false,
     "start_time": "2023-02-13T11:06:12.580623",
     "status": "completed"
    },
    "tags": []
   },
   "outputs": [
    {
     "data": {
      "text/html": [
       "<div>\n",
       "<style scoped>\n",
       "    .dataframe tbody tr th:only-of-type {\n",
       "        vertical-align: middle;\n",
       "    }\n",
       "\n",
       "    .dataframe tbody tr th {\n",
       "        vertical-align: top;\n",
       "    }\n",
       "\n",
       "    .dataframe thead th {\n",
       "        text-align: right;\n",
       "    }\n",
       "</style>\n",
       "<table border=\"1\" class=\"dataframe\">\n",
       "  <thead>\n",
       "    <tr style=\"text-align: right;\">\n",
       "      <th></th>\n",
       "      <th>pct_bb_2017</th>\n",
       "      <th>pct_bb_2018</th>\n",
       "      <th>pct_bb_2019</th>\n",
       "      <th>pct_bb_2020</th>\n",
       "      <th>pct_bb_2021</th>\n",
       "      <th>cfips</th>\n",
       "      <th>pct_college_2017</th>\n",
       "      <th>pct_college_2018</th>\n",
       "      <th>pct_college_2019</th>\n",
       "      <th>pct_college_2020</th>\n",
       "      <th>...</th>\n",
       "      <th>pct_it_workers_2017</th>\n",
       "      <th>pct_it_workers_2018</th>\n",
       "      <th>pct_it_workers_2019</th>\n",
       "      <th>pct_it_workers_2020</th>\n",
       "      <th>pct_it_workers_2021</th>\n",
       "      <th>median_hh_inc_2017</th>\n",
       "      <th>median_hh_inc_2018</th>\n",
       "      <th>median_hh_inc_2019</th>\n",
       "      <th>median_hh_inc_2020</th>\n",
       "      <th>median_hh_inc_2021</th>\n",
       "    </tr>\n",
       "  </thead>\n",
       "  <tbody>\n",
       "    <tr>\n",
       "      <th>count</th>\n",
       "      <td>3142.000000</td>\n",
       "      <td>3142.000000</td>\n",
       "      <td>3142.000000</td>\n",
       "      <td>3141.000000</td>\n",
       "      <td>3141.000000</td>\n",
       "      <td>3142.000000</td>\n",
       "      <td>3142.000000</td>\n",
       "      <td>3142.000000</td>\n",
       "      <td>3142.000000</td>\n",
       "      <td>3141.000000</td>\n",
       "      <td>...</td>\n",
       "      <td>3142.000000</td>\n",
       "      <td>3141.000000</td>\n",
       "      <td>3142.000000</td>\n",
       "      <td>3141.000000</td>\n",
       "      <td>3141.000000</td>\n",
       "      <td>3142.000000</td>\n",
       "      <td>3141.000000</td>\n",
       "      <td>3142.000000</td>\n",
       "      <td>3140.000000</td>\n",
       "      <td>3140.000000</td>\n",
       "    </tr>\n",
       "    <tr>\n",
       "      <th>mean</th>\n",
       "      <td>69.920401</td>\n",
       "      <td>72.690866</td>\n",
       "      <td>75.398600</td>\n",
       "      <td>78.543298</td>\n",
       "      <td>80.539096</td>\n",
       "      <td>30383.649268</td>\n",
       "      <td>13.813399</td>\n",
       "      <td>14.005379</td>\n",
       "      <td>14.240452</td>\n",
       "      <td>14.631328</td>\n",
       "      <td>...</td>\n",
       "      <td>1.427148</td>\n",
       "      <td>1.382171</td>\n",
       "      <td>1.338956</td>\n",
       "      <td>1.309265</td>\n",
       "      <td>1.272684</td>\n",
       "      <td>49754.163908</td>\n",
       "      <td>51583.175422</td>\n",
       "      <td>53475.909612</td>\n",
       "      <td>55012.443312</td>\n",
       "      <td>58223.339490</td>\n",
       "    </tr>\n",
       "    <tr>\n",
       "      <th>std</th>\n",
       "      <td>9.702052</td>\n",
       "      <td>9.255863</td>\n",
       "      <td>8.846665</td>\n",
       "      <td>8.250864</td>\n",
       "      <td>7.889931</td>\n",
       "      <td>15162.508374</td>\n",
       "      <td>5.586649</td>\n",
       "      <td>5.630199</td>\n",
       "      <td>5.689780</td>\n",
       "      <td>5.776940</td>\n",
       "      <td>...</td>\n",
       "      <td>0.986985</td>\n",
       "      <td>0.942777</td>\n",
       "      <td>0.940891</td>\n",
       "      <td>0.990342</td>\n",
       "      <td>0.968579</td>\n",
       "      <td>13154.424871</td>\n",
       "      <td>13703.502202</td>\n",
       "      <td>14192.529173</td>\n",
       "      <td>14649.568591</td>\n",
       "      <td>15541.038914</td>\n",
       "    </tr>\n",
       "    <tr>\n",
       "      <th>min</th>\n",
       "      <td>24.500000</td>\n",
       "      <td>25.700000</td>\n",
       "      <td>34.800000</td>\n",
       "      <td>33.300000</td>\n",
       "      <td>37.000000</td>\n",
       "      <td>1001.000000</td>\n",
       "      <td>2.400000</td>\n",
       "      <td>0.000000</td>\n",
       "      <td>0.000000</td>\n",
       "      <td>0.000000</td>\n",
       "      <td>...</td>\n",
       "      <td>0.000000</td>\n",
       "      <td>0.000000</td>\n",
       "      <td>0.000000</td>\n",
       "      <td>0.000000</td>\n",
       "      <td>0.000000</td>\n",
       "      <td>19264.000000</td>\n",
       "      <td>20188.000000</td>\n",
       "      <td>21504.000000</td>\n",
       "      <td>22292.000000</td>\n",
       "      <td>17109.000000</td>\n",
       "    </tr>\n",
       "    <tr>\n",
       "      <th>25%</th>\n",
       "      <td>64.200000</td>\n",
       "      <td>67.425000</td>\n",
       "      <td>70.500000</td>\n",
       "      <td>74.100000</td>\n",
       "      <td>76.400000</td>\n",
       "      <td>18177.500000</td>\n",
       "      <td>9.700000</td>\n",
       "      <td>9.900000</td>\n",
       "      <td>10.100000</td>\n",
       "      <td>10.500000</td>\n",
       "      <td>...</td>\n",
       "      <td>0.800000</td>\n",
       "      <td>0.800000</td>\n",
       "      <td>0.700000</td>\n",
       "      <td>0.700000</td>\n",
       "      <td>0.600000</td>\n",
       "      <td>41123.000000</td>\n",
       "      <td>42480.000000</td>\n",
       "      <td>44155.000000</td>\n",
       "      <td>45653.000000</td>\n",
       "      <td>48179.500000</td>\n",
       "    </tr>\n",
       "    <tr>\n",
       "      <th>50%</th>\n",
       "      <td>70.700000</td>\n",
       "      <td>73.600000</td>\n",
       "      <td>76.450000</td>\n",
       "      <td>79.600000</td>\n",
       "      <td>81.700000</td>\n",
       "      <td>29176.000000</td>\n",
       "      <td>12.800000</td>\n",
       "      <td>13.000000</td>\n",
       "      <td>13.250000</td>\n",
       "      <td>13.600000</td>\n",
       "      <td>...</td>\n",
       "      <td>1.300000</td>\n",
       "      <td>1.300000</td>\n",
       "      <td>1.200000</td>\n",
       "      <td>1.200000</td>\n",
       "      <td>1.100000</td>\n",
       "      <td>48065.500000</td>\n",
       "      <td>49888.000000</td>\n",
       "      <td>51757.500000</td>\n",
       "      <td>52842.000000</td>\n",
       "      <td>55907.000000</td>\n",
       "    </tr>\n",
       "    <tr>\n",
       "      <th>75%</th>\n",
       "      <td>76.400000</td>\n",
       "      <td>78.800000</td>\n",
       "      <td>81.400000</td>\n",
       "      <td>84.100000</td>\n",
       "      <td>85.900000</td>\n",
       "      <td>45080.500000</td>\n",
       "      <td>16.800000</td>\n",
       "      <td>17.100000</td>\n",
       "      <td>17.300000</td>\n",
       "      <td>17.900000</td>\n",
       "      <td>...</td>\n",
       "      <td>1.900000</td>\n",
       "      <td>1.800000</td>\n",
       "      <td>1.800000</td>\n",
       "      <td>1.800000</td>\n",
       "      <td>1.700000</td>\n",
       "      <td>55763.500000</td>\n",
       "      <td>57611.000000</td>\n",
       "      <td>59867.250000</td>\n",
       "      <td>61500.750000</td>\n",
       "      <td>64930.000000</td>\n",
       "    </tr>\n",
       "    <tr>\n",
       "      <th>max</th>\n",
       "      <td>94.600000</td>\n",
       "      <td>95.500000</td>\n",
       "      <td>96.000000</td>\n",
       "      <td>97.100000</td>\n",
       "      <td>97.600000</td>\n",
       "      <td>56045.000000</td>\n",
       "      <td>43.700000</td>\n",
       "      <td>48.000000</td>\n",
       "      <td>45.400000</td>\n",
       "      <td>43.000000</td>\n",
       "      <td>...</td>\n",
       "      <td>17.400000</td>\n",
       "      <td>11.700000</td>\n",
       "      <td>10.500000</td>\n",
       "      <td>15.200000</td>\n",
       "      <td>15.200000</td>\n",
       "      <td>129588.000000</td>\n",
       "      <td>136268.000000</td>\n",
       "      <td>142299.000000</td>\n",
       "      <td>147111.000000</td>\n",
       "      <td>156821.000000</td>\n",
       "    </tr>\n",
       "  </tbody>\n",
       "</table>\n",
       "<p>8 rows × 26 columns</p>\n",
       "</div>"
      ],
      "text/plain": [
       "       pct_bb_2017  pct_bb_2018  pct_bb_2019  pct_bb_2020  pct_bb_2021  \\\n",
       "count  3142.000000  3142.000000  3142.000000  3141.000000  3141.000000   \n",
       "mean     69.920401    72.690866    75.398600    78.543298    80.539096   \n",
       "std       9.702052     9.255863     8.846665     8.250864     7.889931   \n",
       "min      24.500000    25.700000    34.800000    33.300000    37.000000   \n",
       "25%      64.200000    67.425000    70.500000    74.100000    76.400000   \n",
       "50%      70.700000    73.600000    76.450000    79.600000    81.700000   \n",
       "75%      76.400000    78.800000    81.400000    84.100000    85.900000   \n",
       "max      94.600000    95.500000    96.000000    97.100000    97.600000   \n",
       "\n",
       "              cfips  pct_college_2017  pct_college_2018  pct_college_2019  \\\n",
       "count   3142.000000       3142.000000       3142.000000       3142.000000   \n",
       "mean   30383.649268         13.813399         14.005379         14.240452   \n",
       "std    15162.508374          5.586649          5.630199          5.689780   \n",
       "min     1001.000000          2.400000          0.000000          0.000000   \n",
       "25%    18177.500000          9.700000          9.900000         10.100000   \n",
       "50%    29176.000000         12.800000         13.000000         13.250000   \n",
       "75%    45080.500000         16.800000         17.100000         17.300000   \n",
       "max    56045.000000         43.700000         48.000000         45.400000   \n",
       "\n",
       "       pct_college_2020  ...  pct_it_workers_2017  pct_it_workers_2018  \\\n",
       "count       3141.000000  ...          3142.000000          3141.000000   \n",
       "mean          14.631328  ...             1.427148             1.382171   \n",
       "std            5.776940  ...             0.986985             0.942777   \n",
       "min            0.000000  ...             0.000000             0.000000   \n",
       "25%           10.500000  ...             0.800000             0.800000   \n",
       "50%           13.600000  ...             1.300000             1.300000   \n",
       "75%           17.900000  ...             1.900000             1.800000   \n",
       "max           43.000000  ...            17.400000            11.700000   \n",
       "\n",
       "       pct_it_workers_2019  pct_it_workers_2020  pct_it_workers_2021  \\\n",
       "count          3142.000000          3141.000000          3141.000000   \n",
       "mean              1.338956             1.309265             1.272684   \n",
       "std               0.940891             0.990342             0.968579   \n",
       "min               0.000000             0.000000             0.000000   \n",
       "25%               0.700000             0.700000             0.600000   \n",
       "50%               1.200000             1.200000             1.100000   \n",
       "75%               1.800000             1.800000             1.700000   \n",
       "max              10.500000            15.200000            15.200000   \n",
       "\n",
       "       median_hh_inc_2017  median_hh_inc_2018  median_hh_inc_2019  \\\n",
       "count         3142.000000         3141.000000         3142.000000   \n",
       "mean         49754.163908        51583.175422        53475.909612   \n",
       "std          13154.424871        13703.502202        14192.529173   \n",
       "min          19264.000000        20188.000000        21504.000000   \n",
       "25%          41123.000000        42480.000000        44155.000000   \n",
       "50%          48065.500000        49888.000000        51757.500000   \n",
       "75%          55763.500000        57611.000000        59867.250000   \n",
       "max         129588.000000       136268.000000       142299.000000   \n",
       "\n",
       "       median_hh_inc_2020  median_hh_inc_2021  \n",
       "count         3140.000000         3140.000000  \n",
       "mean         55012.443312        58223.339490  \n",
       "std          14649.568591        15541.038914  \n",
       "min          22292.000000        17109.000000  \n",
       "25%          45653.000000        48179.500000  \n",
       "50%          52842.000000        55907.000000  \n",
       "75%          61500.750000        64930.000000  \n",
       "max         147111.000000       156821.000000  \n",
       "\n",
       "[8 rows x 26 columns]"
      ]
     },
     "execution_count": 5,
     "metadata": {},
     "output_type": "execute_result"
    }
   ],
   "source": [
    "data.describe()"
   ]
  },
  {
   "cell_type": "code",
   "execution_count": 6,
   "id": "53c8e16a",
   "metadata": {
    "execution": {
     "iopub.execute_input": "2023-02-13T11:06:12.709424Z",
     "iopub.status.busy": "2023-02-13T11:06:12.708977Z",
     "iopub.status.idle": "2023-02-13T11:06:13.141014Z",
     "shell.execute_reply": "2023-02-13T11:06:13.139661Z"
    },
    "papermill": {
     "duration": 0.443574,
     "end_time": "2023-02-13T11:06:13.143622",
     "exception": false,
     "start_time": "2023-02-13T11:06:12.700048",
     "status": "completed"
    },
    "tags": []
   },
   "outputs": [
    {
     "data": {
      "text/plain": [
       "<AxesSubplot:>"
      ]
     },
     "execution_count": 6,
     "metadata": {},
     "output_type": "execute_result"
    },
    {
     "data": {
      "image/png": "[encoded data removed]",
      "text/plain": [
       "<Figure size 432x288 with 2 Axes>"
      ]
     },
     "metadata": {
      "needs_background": "light"
     },
     "output_type": "display_data"
    }
   ],
   "source": [
    "dat_cor = data.corr()\n",
    "sns.heatmap(dat_cor)"
   ]
  },
  {
   "cell_type": "code",
   "execution_count": 7,
   "id": "4f1e2ddf",
   "metadata": {
    "execution": {
     "iopub.execute_input": "2023-02-13T11:06:13.160090Z",
     "iopub.status.busy": "2023-02-13T11:06:13.159685Z",
     "iopub.status.idle": "2023-02-13T11:06:13.174568Z",
     "shell.execute_reply": "2023-02-13T11:06:13.173279Z"
    },
    "papermill": {
     "duration": 0.026148,
     "end_time": "2023-02-13T11:06:13.177175",
     "exception": false,
     "start_time": "2023-02-13T11:06:13.151027",
     "status": "completed"
    },
    "tags": []
   },
   "outputs": [
    {
     "data": {
      "text/html": [
       "<div>\n",
       "<style scoped>\n",
       "    .dataframe tbody tr th:only-of-type {\n",
       "        vertical-align: middle;\n",
       "    }\n",
       "\n",
       "    .dataframe tbody tr th {\n",
       "        vertical-align: top;\n",
       "    }\n",
       "\n",
       "    .dataframe thead th {\n",
       "        text-align: right;\n",
       "    }\n",
       "</style>\n",
       "<table border=\"1\" class=\"dataframe\">\n",
       "  <thead>\n",
       "    <tr style=\"text-align: right;\">\n",
       "      <th></th>\n",
       "      <th>row_id</th>\n",
       "      <th>cfips</th>\n",
       "      <th>county</th>\n",
       "      <th>state</th>\n",
       "      <th>first_day_of_month</th>\n",
       "      <th>microbusiness_density</th>\n",
       "      <th>active</th>\n",
       "    </tr>\n",
       "  </thead>\n",
       "  <tbody>\n",
       "    <tr>\n",
       "      <th>0</th>\n",
       "      <td>1001_2019-08-01</td>\n",
       "      <td>1001</td>\n",
       "      <td>Autauga County</td>\n",
       "      <td>Alabama</td>\n",
       "      <td>2019-08-01</td>\n",
       "      <td>3.007682</td>\n",
       "      <td>1249</td>\n",
       "    </tr>\n",
       "    <tr>\n",
       "      <th>1</th>\n",
       "      <td>1001_2019-09-01</td>\n",
       "      <td>1001</td>\n",
       "      <td>Autauga County</td>\n",
       "      <td>Alabama</td>\n",
       "      <td>2019-09-01</td>\n",
       "      <td>2.884870</td>\n",
       "      <td>1198</td>\n",
       "    </tr>\n",
       "    <tr>\n",
       "      <th>2</th>\n",
       "      <td>1001_2019-10-01</td>\n",
       "      <td>1001</td>\n",
       "      <td>Autauga County</td>\n",
       "      <td>Alabama</td>\n",
       "      <td>2019-10-01</td>\n",
       "      <td>3.055843</td>\n",
       "      <td>1269</td>\n",
       "    </tr>\n",
       "    <tr>\n",
       "      <th>3</th>\n",
       "      <td>1001_2019-11-01</td>\n",
       "      <td>1001</td>\n",
       "      <td>Autauga County</td>\n",
       "      <td>Alabama</td>\n",
       "      <td>2019-11-01</td>\n",
       "      <td>2.993233</td>\n",
       "      <td>1243</td>\n",
       "    </tr>\n",
       "    <tr>\n",
       "      <th>4</th>\n",
       "      <td>1001_2019-12-01</td>\n",
       "      <td>1001</td>\n",
       "      <td>Autauga County</td>\n",
       "      <td>Alabama</td>\n",
       "      <td>2019-12-01</td>\n",
       "      <td>2.993233</td>\n",
       "      <td>1243</td>\n",
       "    </tr>\n",
       "  </tbody>\n",
       "</table>\n",
       "</div>"
      ],
      "text/plain": [
       "            row_id  cfips          county    state first_day_of_month  \\\n",
       "0  1001_2019-08-01   1001  Autauga County  Alabama         2019-08-01   \n",
       "1  1001_2019-09-01   1001  Autauga County  Alabama         2019-09-01   \n",
       "2  1001_2019-10-01   1001  Autauga County  Alabama         2019-10-01   \n",
       "3  1001_2019-11-01   1001  Autauga County  Alabama         2019-11-01   \n",
       "4  1001_2019-12-01   1001  Autauga County  Alabama         2019-12-01   \n",
       "\n",
       "   microbusiness_density  active  \n",
       "0               3.007682    1249  \n",
       "1               2.884870    1198  \n",
       "2               3.055843    1269  \n",
       "3               2.993233    1243  \n",
       "4               2.993233    1243  "
      ]
     },
     "execution_count": 7,
     "metadata": {},
     "output_type": "execute_result"
    }
   ],
   "source": [
    "train_set.head()"
   ]
  },
  {
   "cell_type": "code",
   "execution_count": 8,
   "id": "c22743e1",
   "metadata": {
    "execution": {
     "iopub.execute_input": "2023-02-13T11:06:13.194271Z",
     "iopub.status.busy": "2023-02-13T11:06:13.193816Z",
     "iopub.status.idle": "2023-02-13T11:06:13.205827Z",
     "shell.execute_reply": "2023-02-13T11:06:13.204426Z"
    },
    "papermill": {
     "duration": 0.023509,
     "end_time": "2023-02-13T11:06:13.208446",
     "exception": false,
     "start_time": "2023-02-13T11:06:13.184937",
     "status": "completed"
    },
    "tags": []
   },
   "outputs": [
    {
     "data": {
      "text/html": [
       "<div>\n",
       "<style scoped>\n",
       "    .dataframe tbody tr th:only-of-type {\n",
       "        vertical-align: middle;\n",
       "    }\n",
       "\n",
       "    .dataframe tbody tr th {\n",
       "        vertical-align: top;\n",
       "    }\n",
       "\n",
       "    .dataframe thead th {\n",
       "        text-align: right;\n",
       "    }\n",
       "</style>\n",
       "<table border=\"1\" class=\"dataframe\">\n",
       "  <thead>\n",
       "    <tr style=\"text-align: right;\">\n",
       "      <th></th>\n",
       "      <th>row_id</th>\n",
       "      <th>cfips</th>\n",
       "      <th>first_day_of_month</th>\n",
       "    </tr>\n",
       "  </thead>\n",
       "  <tbody>\n",
       "    <tr>\n",
       "      <th>0</th>\n",
       "      <td>1001_2022-11-01</td>\n",
       "      <td>1001</td>\n",
       "      <td>2022-11-01</td>\n",
       "    </tr>\n",
       "    <tr>\n",
       "      <th>1</th>\n",
       "      <td>1003_2022-11-01</td>\n",
       "      <td>1003</td>\n",
       "      <td>2022-11-01</td>\n",
       "    </tr>\n",
       "    <tr>\n",
       "      <th>2</th>\n",
       "      <td>1005_2022-11-01</td>\n",
       "      <td>1005</td>\n",
       "      <td>2022-11-01</td>\n",
       "    </tr>\n",
       "    <tr>\n",
       "      <th>3</th>\n",
       "      <td>1007_2022-11-01</td>\n",
       "      <td>1007</td>\n",
       "      <td>2022-11-01</td>\n",
       "    </tr>\n",
       "    <tr>\n",
       "      <th>4</th>\n",
       "      <td>1009_2022-11-01</td>\n",
       "      <td>1009</td>\n",
       "      <td>2022-11-01</td>\n",
       "    </tr>\n",
       "  </tbody>\n",
       "</table>\n",
       "</div>"
      ],
      "text/plain": [
       "            row_id  cfips first_day_of_month\n",
       "0  1001_2022-11-01   1001         2022-11-01\n",
       "1  1003_2022-11-01   1003         2022-11-01\n",
       "2  1005_2022-11-01   1005         2022-11-01\n",
       "3  1007_2022-11-01   1007         2022-11-01\n",
       "4  1009_2022-11-01   1009         2022-11-01"
      ]
     },
     "execution_count": 8,
     "metadata": {},
     "output_type": "execute_result"
    }
   ],
   "source": [
    "test_set.head()"
   ]
  },
  {
   "cell_type": "code",
   "execution_count": 9,
   "id": "8187d130",
   "metadata": {
    "execution": {
     "iopub.execute_input": "2023-02-13T11:06:13.225966Z",
     "iopub.status.busy": "2023-02-13T11:06:13.225496Z",
     "iopub.status.idle": "2023-02-13T11:06:13.232828Z",
     "shell.execute_reply": "2023-02-13T11:06:13.231571Z"
    },
    "papermill": {
     "duration": 0.019101,
     "end_time": "2023-02-13T11:06:13.235384",
     "exception": false,
     "start_time": "2023-02-13T11:06:13.216283",
     "status": "completed"
    },
    "tags": []
   },
   "outputs": [
    {
     "data": {
      "text/plain": [
       "(122265, 7)"
      ]
     },
     "execution_count": 9,
     "metadata": {},
     "output_type": "execute_result"
    }
   ],
   "source": [
    "train_set.shape #show total cols and rows for training set"
   ]
  },
  {
   "cell_type": "code",
   "execution_count": 10,
   "id": "75b49f33",
   "metadata": {
    "execution": {
     "iopub.execute_input": "2023-02-13T11:06:13.253149Z",
     "iopub.status.busy": "2023-02-13T11:06:13.252702Z",
     "iopub.status.idle": "2023-02-13T11:06:13.291774Z",
     "shell.execute_reply": "2023-02-13T11:06:13.289996Z"
    },
    "papermill": {
     "duration": 0.052196,
     "end_time": "2023-02-13T11:06:13.295476",
     "exception": false,
     "start_time": "2023-02-13T11:06:13.243280",
     "status": "completed"
    },
    "tags": []
   },
   "outputs": [
    {
     "name": "stdout",
     "output_type": "stream",
     "text": [
      "<class 'pandas.core.frame.DataFrame'>\n",
      "RangeIndex: 122265 entries, 0 to 122264\n",
      "Data columns (total 7 columns):\n",
      " #   Column                 Non-Null Count   Dtype  \n",
      "---  ------                 --------------   -----  \n",
      " 0   row_id                 122265 non-null  object \n",
      " 1   cfips                  122265 non-null  int64  \n",
      " 2   county                 122265 non-null  object \n",
      " 3   state                  122265 non-null  object \n",
      " 4   first_day_of_month     122265 non-null  object \n",
      " 5   microbusiness_density  122265 non-null  float64\n",
      " 6   active                 122265 non-null  int64  \n",
      "dtypes: float64(1), int64(2), object(4)\n",
      "memory usage: 6.5+ MB\n"
     ]
    }
   ],
   "source": [
    "train_set.info()"
   ]
  },
  {
   "cell_type": "code",
   "execution_count": 11,
   "id": "35141a05",
   "metadata": {
    "execution": {
     "iopub.execute_input": "2023-02-13T11:06:13.313588Z",
     "iopub.status.busy": "2023-02-13T11:06:13.313107Z",
     "iopub.status.idle": "2023-02-13T11:06:13.348742Z",
     "shell.execute_reply": "2023-02-13T11:06:13.347474Z"
    },
    "papermill": {
     "duration": 0.047942,
     "end_time": "2023-02-13T11:06:13.351602",
     "exception": false,
     "start_time": "2023-02-13T11:06:13.303660",
     "status": "completed"
    },
    "tags": []
   },
   "outputs": [
    {
     "data": {
      "text/html": [
       "<div>\n",
       "<style scoped>\n",
       "    .dataframe tbody tr th:only-of-type {\n",
       "        vertical-align: middle;\n",
       "    }\n",
       "\n",
       "    .dataframe tbody tr th {\n",
       "        vertical-align: top;\n",
       "    }\n",
       "\n",
       "    .dataframe thead th {\n",
       "        text-align: right;\n",
       "    }\n",
       "</style>\n",
       "<table border=\"1\" class=\"dataframe\">\n",
       "  <thead>\n",
       "    <tr style=\"text-align: right;\">\n",
       "      <th></th>\n",
       "      <th>cfips</th>\n",
       "      <th>microbusiness_density</th>\n",
       "      <th>active</th>\n",
       "    </tr>\n",
       "  </thead>\n",
       "  <tbody>\n",
       "    <tr>\n",
       "      <th>count</th>\n",
       "      <td>122265.000000</td>\n",
       "      <td>122265.000000</td>\n",
       "      <td>1.222650e+05</td>\n",
       "    </tr>\n",
       "    <tr>\n",
       "      <th>mean</th>\n",
       "      <td>30376.037640</td>\n",
       "      <td>3.817671</td>\n",
       "      <td>6.442858e+03</td>\n",
       "    </tr>\n",
       "    <tr>\n",
       "      <th>std</th>\n",
       "      <td>15143.508721</td>\n",
       "      <td>4.991087</td>\n",
       "      <td>3.304001e+04</td>\n",
       "    </tr>\n",
       "    <tr>\n",
       "      <th>min</th>\n",
       "      <td>1001.000000</td>\n",
       "      <td>0.000000</td>\n",
       "      <td>0.000000e+00</td>\n",
       "    </tr>\n",
       "    <tr>\n",
       "      <th>25%</th>\n",
       "      <td>18177.000000</td>\n",
       "      <td>1.639344</td>\n",
       "      <td>1.450000e+02</td>\n",
       "    </tr>\n",
       "    <tr>\n",
       "      <th>50%</th>\n",
       "      <td>29173.000000</td>\n",
       "      <td>2.586543</td>\n",
       "      <td>4.880000e+02</td>\n",
       "    </tr>\n",
       "    <tr>\n",
       "      <th>75%</th>\n",
       "      <td>45077.000000</td>\n",
       "      <td>4.519231</td>\n",
       "      <td>2.124000e+03</td>\n",
       "    </tr>\n",
       "    <tr>\n",
       "      <th>max</th>\n",
       "      <td>56045.000000</td>\n",
       "      <td>284.340030</td>\n",
       "      <td>1.167744e+06</td>\n",
       "    </tr>\n",
       "  </tbody>\n",
       "</table>\n",
       "</div>"
      ],
      "text/plain": [
       "               cfips  microbusiness_density        active\n",
       "count  122265.000000          122265.000000  1.222650e+05\n",
       "mean    30376.037640               3.817671  6.442858e+03\n",
       "std     15143.508721               4.991087  3.304001e+04\n",
       "min      1001.000000               0.000000  0.000000e+00\n",
       "25%     18177.000000               1.639344  1.450000e+02\n",
       "50%     29173.000000               2.586543  4.880000e+02\n",
       "75%     45077.000000               4.519231  2.124000e+03\n",
       "max     56045.000000             284.340030  1.167744e+06"
      ]
     },
     "execution_count": 11,
     "metadata": {},
     "output_type": "execute_result"
    }
   ],
   "source": [
    "train_set.describe()"
   ]
  },
  {
   "cell_type": "code",
   "execution_count": 12,
   "id": "5d469f00",
   "metadata": {
    "execution": {
     "iopub.execute_input": "2023-02-13T11:06:13.370566Z",
     "iopub.status.busy": "2023-02-13T11:06:13.370098Z",
     "iopub.status.idle": "2023-02-13T11:06:13.402278Z",
     "shell.execute_reply": "2023-02-13T11:06:13.400901Z"
    },
    "papermill": {
     "duration": 0.044449,
     "end_time": "2023-02-13T11:06:13.404850",
     "exception": false,
     "start_time": "2023-02-13T11:06:13.360401",
     "status": "completed"
    },
    "tags": []
   },
   "outputs": [
    {
     "data": {
      "text/plain": [
       "row_id                   0\n",
       "cfips                    0\n",
       "county                   0\n",
       "state                    0\n",
       "first_day_of_month       0\n",
       "microbusiness_density    0\n",
       "active                   0\n",
       "dtype: int64"
      ]
     },
     "execution_count": 12,
     "metadata": {},
     "output_type": "execute_result"
    }
   ],
   "source": [
    "train_set.isnull().sum() #get counts for null vals"
   ]
  },
  {
   "cell_type": "code",
   "execution_count": 13,
   "id": "bae29a5b",
   "metadata": {
    "execution": {
     "iopub.execute_input": "2023-02-13T11:06:13.424741Z",
     "iopub.status.busy": "2023-02-13T11:06:13.424298Z",
     "iopub.status.idle": "2023-02-13T11:06:13.523313Z",
     "shell.execute_reply": "2023-02-13T11:06:13.522215Z"
    },
    "papermill": {
     "duration": 0.111422,
     "end_time": "2023-02-13T11:06:13.525868",
     "exception": false,
     "start_time": "2023-02-13T11:06:13.414446",
     "status": "completed"
    },
    "tags": []
   },
   "outputs": [
    {
     "data": {
      "text/html": [
       "<div>\n",
       "<style scoped>\n",
       "    .dataframe tbody tr th:only-of-type {\n",
       "        vertical-align: middle;\n",
       "    }\n",
       "\n",
       "    .dataframe tbody tr th {\n",
       "        vertical-align: top;\n",
       "    }\n",
       "\n",
       "    .dataframe thead th {\n",
       "        text-align: right;\n",
       "    }\n",
       "</style>\n",
       "<table border=\"1\" class=\"dataframe\">\n",
       "  <thead>\n",
       "    <tr style=\"text-align: right;\">\n",
       "      <th></th>\n",
       "      <th>row_id</th>\n",
       "      <th>cfips</th>\n",
       "      <th>county</th>\n",
       "      <th>state</th>\n",
       "      <th>first_day_of_month</th>\n",
       "      <th>microbusiness_density</th>\n",
       "      <th>active</th>\n",
       "    </tr>\n",
       "  </thead>\n",
       "  <tbody>\n",
       "  </tbody>\n",
       "</table>\n",
       "</div>"
      ],
      "text/plain": [
       "Empty DataFrame\n",
       "Columns: [row_id, cfips, county, state, first_day_of_month, microbusiness_density, active]\n",
       "Index: []"
      ]
     },
     "execution_count": 13,
     "metadata": {},
     "output_type": "execute_result"
    }
   ],
   "source": [
    "#check for dupes\n",
    "train_dups = train_set[train_set.duplicated()]\n",
    "train_dups"
   ]
  },
  {
   "cell_type": "code",
   "execution_count": 14,
   "id": "0f14d527",
   "metadata": {
    "execution": {
     "iopub.execute_input": "2023-02-13T11:06:13.544270Z",
     "iopub.status.busy": "2023-02-13T11:06:13.543840Z",
     "iopub.status.idle": "2023-02-13T11:06:13.618757Z",
     "shell.execute_reply": "2023-02-13T11:06:13.617279Z"
    },
    "papermill": {
     "duration": 0.087215,
     "end_time": "2023-02-13T11:06:13.621521",
     "exception": false,
     "start_time": "2023-02-13T11:06:13.534306",
     "status": "completed"
    },
    "tags": []
   },
   "outputs": [
    {
     "data": {
      "text/plain": [
       "row_id                   122265\n",
       "cfips                      3135\n",
       "county                     1871\n",
       "state                        51\n",
       "first_day_of_month           39\n",
       "microbusiness_density     97122\n",
       "active                    19193\n",
       "dtype: int64"
      ]
     },
     "execution_count": 14,
     "metadata": {},
     "output_type": "execute_result"
    }
   ],
   "source": [
    "train_set.nunique() #check unique vals in dataset"
   ]
  },
  {
   "cell_type": "code",
   "execution_count": 15,
   "id": "4730de06",
   "metadata": {
    "execution": {
     "iopub.execute_input": "2023-02-13T11:06:13.640804Z",
     "iopub.status.busy": "2023-02-13T11:06:13.640387Z",
     "iopub.status.idle": "2023-02-13T11:06:13.680718Z",
     "shell.execute_reply": "2023-02-13T11:06:13.679370Z"
    },
    "papermill": {
     "duration": 0.053061,
     "end_time": "2023-02-13T11:06:13.683647",
     "exception": false,
     "start_time": "2023-02-13T11:06:13.630586",
     "status": "completed"
    },
    "tags": []
   },
   "outputs": [],
   "source": [
    "#create new cols with date and per year\n",
    "train_set['date'] = pd.to_datetime(train_set['first_day_of_month'])\n",
    "train_set['year'] = train_set['date'].dt.year"
   ]
  },
  {
   "cell_type": "code",
   "execution_count": 16,
   "id": "9e018fbe",
   "metadata": {
    "execution": {
     "iopub.execute_input": "2023-02-13T11:06:13.704329Z",
     "iopub.status.busy": "2023-02-13T11:06:13.703868Z",
     "iopub.status.idle": "2023-02-13T11:06:13.720468Z",
     "shell.execute_reply": "2023-02-13T11:06:13.719096Z"
    },
    "papermill": {
     "duration": 0.030385,
     "end_time": "2023-02-13T11:06:13.723451",
     "exception": false,
     "start_time": "2023-02-13T11:06:13.693066",
     "status": "completed"
    },
    "tags": []
   },
   "outputs": [
    {
     "data": {
      "text/plain": [
       "count    122265.000000\n",
       "mean          3.817671\n",
       "std           4.991087\n",
       "min           0.000000\n",
       "25%           1.639344\n",
       "50%           2.586543\n",
       "75%           4.519231\n",
       "max         284.340030\n",
       "Name: microbusiness_density, dtype: float64"
      ]
     },
     "execution_count": 16,
     "metadata": {},
     "output_type": "execute_result"
    }
   ],
   "source": [
    "train_set['microbusiness_density'].describe()"
   ]
  },
  {
   "cell_type": "code",
   "execution_count": 17,
   "id": "fa9fa92f",
   "metadata": {
    "execution": {
     "iopub.execute_input": "2023-02-13T11:06:13.743169Z",
     "iopub.status.busy": "2023-02-13T11:06:13.742706Z",
     "iopub.status.idle": "2023-02-13T11:06:13.755939Z",
     "shell.execute_reply": "2023-02-13T11:06:13.754665Z"
    },
    "papermill": {
     "duration": 0.026096,
     "end_time": "2023-02-13T11:06:13.758524",
     "exception": false,
     "start_time": "2023-02-13T11:06:13.732428",
     "status": "completed"
    },
    "tags": []
   },
   "outputs": [
    {
     "data": {
      "text/plain": [
       "year\n",
       "2019    3.732905\n",
       "2020    3.722057\n",
       "2021    3.841160\n",
       "2022    3.946603\n",
       "Name: microbusiness_density, dtype: float64"
      ]
     },
     "execution_count": 17,
     "metadata": {},
     "output_type": "execute_result"
    }
   ],
   "source": [
    "#get mean density per year \n",
    "yearly_means = train_set.groupby('year')['microbusiness_density'].mean()\n",
    "yearly_means"
   ]
  },
  {
   "cell_type": "code",
   "execution_count": 18,
   "id": "b42466d9",
   "metadata": {
    "execution": {
     "iopub.execute_input": "2023-02-13T11:06:13.777437Z",
     "iopub.status.busy": "2023-02-13T11:06:13.777017Z",
     "iopub.status.idle": "2023-02-13T11:06:13.802887Z",
     "shell.execute_reply": "2023-02-13T11:06:13.801565Z"
    },
    "papermill": {
     "duration": 0.038573,
     "end_time": "2023-02-13T11:06:13.805686",
     "exception": false,
     "start_time": "2023-02-13T11:06:13.767113",
     "status": "completed"
    },
    "tags": []
   },
   "outputs": [
    {
     "data": {
      "text/plain": [
       "month\n",
       "1     3.767546\n",
       "2     3.779636\n",
       "3     3.805977\n",
       "4     3.831690\n",
       "5     3.830886\n",
       "6     3.820389\n",
       "7     3.851197\n",
       "8     3.832016\n",
       "9     3.822233\n",
       "10    3.857888\n",
       "11    3.797355\n",
       "12    3.795525\n",
       "Name: microbusiness_density, dtype: float64"
      ]
     },
     "execution_count": 18,
     "metadata": {},
     "output_type": "execute_result"
    }
   ],
   "source": [
    "#check on montly basis\n",
    "train_set['month'] = train_set['date'].dt.month\n",
    "monthly_means = train_set.groupby('month')['microbusiness_density'].mean()\n",
    "monthly_means"
   ]
  },
  {
   "cell_type": "code",
   "execution_count": 19,
   "id": "5f93c187",
   "metadata": {
    "execution": {
     "iopub.execute_input": "2023-02-13T11:06:13.826340Z",
     "iopub.status.busy": "2023-02-13T11:06:13.825897Z",
     "iopub.status.idle": "2023-02-13T11:06:14.637080Z",
     "shell.execute_reply": "2023-02-13T11:06:14.635835Z"
    },
    "papermill": {
     "duration": 0.824547,
     "end_time": "2023-02-13T11:06:14.639516",
     "exception": false,
     "start_time": "2023-02-13T11:06:13.814969",
     "status": "completed"
    },
    "tags": []
   },
   "outputs": [
    {
     "data": {
      "text/plain": [
       "<AxesSubplot:xlabel='state'>"
      ]
     },
     "execution_count": 19,
     "metadata": {},
     "output_type": "execute_result"
    },
    {
     "data": {
      "image/png": "[encoded data removed]",
      "text/plain": [
       "<Figure size 864x288 with 1 Axes>"
      ]
     },
     "metadata": {
      "needs_background": "light"
     },
     "output_type": "display_data"
    }
   ],
   "source": [
    "#which state has the largest density mean?\n",
    "\n",
    "train_set.groupby('state')['microbusiness_density'].mean().plot(kind='bar', figsize = (12, 4))"
   ]
  },
  {
   "cell_type": "code",
   "execution_count": null,
   "id": "723c5ed3",
   "metadata": {
    "papermill": {
     "duration": 0.009422,
     "end_time": "2023-02-13T11:06:14.658682",
     "exception": false,
     "start_time": "2023-02-13T11:06:14.649260",
     "status": "completed"
    },
    "tags": []
   },
   "outputs": [],
   "source": []
  }
 ],
 "metadata": {
  "kernelspec": {
   "display_name": "Python 3",
   "language": "python",
   "name": "python3"
  },
  "language_info": {
   "codemirror_mode": {
    "name": "ipython",
    "version": 3
   },
   "file_extension": ".py",
   "mimetype": "text/x-python",
   "name": "python",
   "nbconvert_exporter": "python",
   "pygments_lexer": "ipython3",
   "version": "3.7.12"
  },
  "papermill": {
   "default_parameters": {},
   "duration": 17.361249,
   "end_time": "2023-02-13T11:06:15.592852",
   "environment_variables": {},
   "exception": null,
   "input_path": "__notebook__.ipynb",
   "output_path": "__notebook__.ipynb",
   "parameters": {},
   "start_time": "2023-02-13T11:05:58.231603",
   "version": "2.3.4"
  }
 },
 "nbformat": 4,
 "nbformat_minor": 5
}
